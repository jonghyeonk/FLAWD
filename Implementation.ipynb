{
 "cells": [
  {
   "cell_type": "code",
   "execution_count": 1,
   "metadata": {},
   "outputs": [],
   "source": [
    "import os\n",
    "import warnings\n",
    "warnings.filterwarnings(action='ignore')\n",
    "import pandas as pd\n",
    "from datetime import datetime\n",
    "from utils.filtering import generate_system\n",
    "\n",
    "org_path = os.getcwd()\n",
    "input_path = os.sep.join([str(org_path), \"input\"])\n",
    "\n",
    "from patterns.FormBased import FormBased\n",
    "from patterns.CollateralEvent import CollateralEvent\n",
    "from patterns.ScatteredCase import ScatteredCase\n",
    "from patterns.PollutedLabel import PollutedLabel\n",
    "from patterns.ScatteredEvent import ScatteredEvent\n",
    "from patterns.SynonymousLabel import SynonymousLabel\n",
    "from patterns.HomonymousLabel import HomonymousLabel\n",
    "from patterns.ElusiveCase import ElusiveCase\n",
    "from patterns.UnanchoredEvent import UnanchoredEvent\n",
    "from patterns.DistortedLabel import DistortedLabel\n",
    "from patterns.InadvertentTimeTravel import InadvertentTimeTravel"
   ]
  },
  {
   "cell_type": "markdown",
   "metadata": {},
   "source": [
    "### 0. Import and preprocess an event log"
   ]
  },
  {
   "cell_type": "code",
   "execution_count": 2,
   "metadata": {},
   "outputs": [
    {
     "data": {
      "text/html": [
       "<div>\n",
       "<style scoped>\n",
       "    .dataframe tbody tr th:only-of-type {\n",
       "        vertical-align: middle;\n",
       "    }\n",
       "\n",
       "    .dataframe tbody tr th {\n",
       "        vertical-align: top;\n",
       "    }\n",
       "\n",
       "    .dataframe thead th {\n",
       "        text-align: right;\n",
       "    }\n",
       "</style>\n",
       "<table border=\"1\" class=\"dataframe\">\n",
       "  <thead>\n",
       "    <tr style=\"text-align: right;\">\n",
       "      <th></th>\n",
       "      <th>Case</th>\n",
       "      <th>Activity</th>\n",
       "      <th>Timestamp</th>\n",
       "      <th>Resource</th>\n",
       "    </tr>\n",
       "  </thead>\n",
       "  <tbody>\n",
       "    <tr>\n",
       "      <th>62310</th>\n",
       "      <td>0</td>\n",
       "      <td>Check for completeness</td>\n",
       "      <td>2023-09-29 09:00:00.000</td>\n",
       "      <td>Clerk-000001</td>\n",
       "    </tr>\n",
       "    <tr>\n",
       "      <th>62309</th>\n",
       "      <td>0</td>\n",
       "      <td>New online application received</td>\n",
       "      <td>2023-09-29 09:00:00.000</td>\n",
       "      <td>NaN</td>\n",
       "    </tr>\n",
       "    <tr>\n",
       "      <th>62311</th>\n",
       "      <td>0</td>\n",
       "      <td>Perform checks</td>\n",
       "      <td>2023-09-29 09:08:36.418</td>\n",
       "      <td>Clerk-000003</td>\n",
       "    </tr>\n",
       "    <tr>\n",
       "      <th>62312</th>\n",
       "      <td>0</td>\n",
       "      <td>Make decision</td>\n",
       "      <td>2023-09-29 09:09:43.339</td>\n",
       "      <td>Manager-000001</td>\n",
       "    </tr>\n",
       "    <tr>\n",
       "      <th>62313</th>\n",
       "      <td>0</td>\n",
       "      <td>Notify accept</td>\n",
       "      <td>2023-09-29 09:16:37.243</td>\n",
       "      <td>Manager-000003</td>\n",
       "    </tr>\n",
       "  </tbody>\n",
       "</table>\n",
       "</div>"
      ],
      "text/plain": [
       "      Case                         Activity               Timestamp  \\\n",
       "62310    0           Check for completeness 2023-09-29 09:00:00.000   \n",
       "62309    0  New online application received 2023-09-29 09:00:00.000   \n",
       "62311    0                   Perform checks 2023-09-29 09:08:36.418   \n",
       "62312    0                    Make decision 2023-09-29 09:09:43.339   \n",
       "62313    0                    Notify accept 2023-09-29 09:16:37.243   \n",
       "\n",
       "             Resource  \n",
       "62310    Clerk-000001  \n",
       "62309             NaN  \n",
       "62311    Clerk-000003  \n",
       "62312  Manager-000001  \n",
       "62313  Manager-000003  "
      ]
     },
     "execution_count": 2,
     "metadata": {},
     "output_type": "execute_result"
    }
   ],
   "source": [
    "dat = 'credit-card-new.csv'\n",
    "\n",
    "event_log = pd.read_csv(input_path+ '\\\\' + dat)\n",
    "if sum( [x in dat for x in ['Small', 'Medium', 'Large', 'Huge', 'Wide']]) > 0:\n",
    "    extracted_data = event_log[['Case', 'Activity', 'Timestamp']]\n",
    "    form = \"%Y/%m/%d %H:%M:%S.%f\"    \n",
    "elif sum( [x in dat for x in ['credit-card-new']]) > 0:\n",
    "    extracted_data = event_log[['Case ID', 'Activity', 'Start Timestamp', 'Resource']]\n",
    "    extracted_data.columns = [\"Case\", \"Activity\", \"Timestamp\", 'Resource']\n",
    "    form = \"%Y-%m-%d %H:%M:%S.%f\" \n",
    "elif sum( [x in dat for x in ['mccloud', 'credit-card']]) > 0:\n",
    "    extracted_data = event_log[['Case', 'Activity', 'Timestamp']]\n",
    "    form = \"%Y-%m-%d %H:%M:%S.%f\" \n",
    "\n",
    "else:\n",
    "    extracted_data = event_log[['Case.ID', 'Activity', 'Complete.Timestamp']]\n",
    "    form = \"%Y-%m-%d %H:%M:%S.%f\"\n",
    "\n",
    "if \"Event\" not in extracted_data.columns:\n",
    "    extracted_data[\"Event\"] = list(range(0,len(event_log.index)))\n",
    "\n",
    "extracted_data = extracted_data.sort_values([\"Case\", \"Timestamp\", \"Activity\"],ascending=[True, True, True]) # Reorder rows\n",
    "extracted_data.Case = extracted_data.Case.astype(str) \n",
    "time = extracted_data['Timestamp'].apply(lambda x: datetime.strptime(x, form))\n",
    "extracted_data['Timestamp'] = time\n",
    "EL = extracted_data.copy()\n",
    "EL = EL.dropna(subset=['Case'])\n",
    "del extracted_data['Event']\n",
    "del EL['Event']\n",
    "\n",
    "EL.head()"
   ]
  },
  {
   "cell_type": "markdown",
   "metadata": {},
   "source": [
    "### 1. Form-based pattern"
   ]
  },
  {
   "cell_type": "code",
   "execution_count": 3,
   "metadata": {},
   "outputs": [
    {
     "name": "stdout",
     "output_type": "stream",
     "text": [
      "Filtering step 1 . The number of cases in the time interval ( 2023-09-26 09:00:00.000 , 2023-12-26 09:00:00.000 ):  1505\n",
      "Filtering step 2 . The number of cases by declare rule:  34\n",
      "Filtering step 3 . The number of cases containing the defined subseq  ['Make decision', 'Notify accept', 'Deliver card'] :  34\n",
      "Filtering step 4 . The number of cases to be filtered by defined random portion:  24\n"
     ]
    }
   ],
   "source": [
    "EL_polluted = FormBased(EL,\n",
    "                    which = ['Make decision', 'Notify accept', 'Deliver card'], \n",
    "                    ratio= 0.7 , \n",
    "                    tstart = \"2023-09-26 09:00:00.000\",\n",
    "                    tend = \"2023-12-26 09:00:00.000\",\n",
    "                    DecConstraint = \"Chain Response[Make decision, Notify accept] |A.Resource is Manager-000001 |T.Resource is Manager-000003 |\", \n",
    "                    case_id_key = \"Case\",\n",
    "                    timestamp_key = \"Timestamp\")"
   ]
  },
  {
   "cell_type": "code",
   "execution_count": 4,
   "metadata": {},
   "outputs": [
    {
     "data": {
      "text/html": [
       "<div>\n",
       "<style scoped>\n",
       "    .dataframe tbody tr th:only-of-type {\n",
       "        vertical-align: middle;\n",
       "    }\n",
       "\n",
       "    .dataframe tbody tr th {\n",
       "        vertical-align: top;\n",
       "    }\n",
       "\n",
       "    .dataframe thead th {\n",
       "        text-align: right;\n",
       "    }\n",
       "</style>\n",
       "<table border=\"1\" class=\"dataframe\">\n",
       "  <thead>\n",
       "    <tr style=\"text-align: right;\">\n",
       "      <th></th>\n",
       "      <th>Case</th>\n",
       "      <th>Activity</th>\n",
       "      <th>Timestamp</th>\n",
       "      <th>Resource</th>\n",
       "      <th>label</th>\n",
       "    </tr>\n",
       "  </thead>\n",
       "  <tbody>\n",
       "    <tr>\n",
       "      <th>3</th>\n",
       "      <td>0</td>\n",
       "      <td>Make decision</td>\n",
       "      <td>2023-09-29 09:09:43.339</td>\n",
       "      <td>Manager-000001</td>\n",
       "      <td>form-based events(2023-09-29 09:09:43.339000)</td>\n",
       "    </tr>\n",
       "    <tr>\n",
       "      <th>4</th>\n",
       "      <td>0</td>\n",
       "      <td>Notify accept</td>\n",
       "      <td>2023-09-29 09:09:43.339</td>\n",
       "      <td>Manager-000003</td>\n",
       "      <td>form-based events(2023-09-29 09:16:37.243000)</td>\n",
       "    </tr>\n",
       "    <tr>\n",
       "      <th>5</th>\n",
       "      <td>0</td>\n",
       "      <td>Deliver card</td>\n",
       "      <td>2023-09-29 09:09:43.339</td>\n",
       "      <td>Manager-000002</td>\n",
       "      <td>form-based events(2023-09-29 09:39:19.386000)</td>\n",
       "    </tr>\n",
       "    <tr>\n",
       "      <th>26</th>\n",
       "      <td>1113</td>\n",
       "      <td>Make decision</td>\n",
       "      <td>2023-12-04 07:15:07.899</td>\n",
       "      <td>Manager-000001</td>\n",
       "      <td>form-based events(2023-12-04 07:15:07.899000)</td>\n",
       "    </tr>\n",
       "  </tbody>\n",
       "</table>\n",
       "</div>"
      ],
      "text/plain": [
       "    Case       Activity               Timestamp        Resource  \\\n",
       "3      0  Make decision 2023-09-29 09:09:43.339  Manager-000001   \n",
       "4      0  Notify accept 2023-09-29 09:09:43.339  Manager-000003   \n",
       "5      0   Deliver card 2023-09-29 09:09:43.339  Manager-000002   \n",
       "26  1113  Make decision 2023-12-04 07:15:07.899  Manager-000001   \n",
       "\n",
       "                                            label  \n",
       "3   form-based events(2023-09-29 09:09:43.339000)  \n",
       "4   form-based events(2023-09-29 09:16:37.243000)  \n",
       "5   form-based events(2023-09-29 09:39:19.386000)  \n",
       "26  form-based events(2023-12-04 07:15:07.899000)  "
      ]
     },
     "execution_count": 4,
     "metadata": {},
     "output_type": "execute_result"
    }
   ],
   "source": [
    "EL_polluted[EL_polluted['label'] !=  \"\"].head(4)"
   ]
  },
  {
   "cell_type": "markdown",
   "metadata": {},
   "source": [
    "### 2. Collateral Event pattern"
   ]
  },
  {
   "cell_type": "code",
   "execution_count": 5,
   "metadata": {},
   "outputs": [
    {
     "name": "stdout",
     "output_type": "stream",
     "text": [
      "Filtering step 1 . The number of cases in the time interval ( 2023-09-26 09:00:00.000 , 2023-12-26 09:00:00.000 ):  1505\n",
      "Filtering step 2 . The number of cases by declare rule:  34\n",
      "Filtering step 3 . The number of cases to be filtered by defined random portion:  24\n"
     ]
    }
   ],
   "source": [
    "EL_polluted = CollateralEvent(EL, \n",
    "                    target_collats = \"[Activity:'Make decision'>>('Make decision_signed1', 'Make decision_signed2')]\",\n",
    "                    ratio= 0.7 , \n",
    "                    timep = 1,\n",
    "                    unit = 'sec',\n",
    "                    tstart = \"2023-09-26 09:00:00.000\",\n",
    "                    tend = \"2023-12-26 09:00:00.000\",\n",
    "                    DecConstraint = \"Chain Response[Make decision, Notify accept] |A.Resource is Manager-000001 |T.Resource is Manager-000003 |\", \n",
    "                    case_id_key = \"Case\",\n",
    "                    timestamp_key = \"Timestamp\",\n",
    "                    activity_key = \"Activity\")"
   ]
  },
  {
   "cell_type": "code",
   "execution_count": 6,
   "metadata": {},
   "outputs": [
    {
     "data": {
      "text/html": [
       "<div>\n",
       "<style scoped>\n",
       "    .dataframe tbody tr th:only-of-type {\n",
       "        vertical-align: middle;\n",
       "    }\n",
       "\n",
       "    .dataframe tbody tr th {\n",
       "        vertical-align: top;\n",
       "    }\n",
       "\n",
       "    .dataframe thead th {\n",
       "        text-align: right;\n",
       "    }\n",
       "</style>\n",
       "<table border=\"1\" class=\"dataframe\">\n",
       "  <thead>\n",
       "    <tr style=\"text-align: right;\">\n",
       "      <th></th>\n",
       "      <th>Case</th>\n",
       "      <th>Activity</th>\n",
       "      <th>Timestamp</th>\n",
       "      <th>Resource</th>\n",
       "      <th>label</th>\n",
       "    </tr>\n",
       "  </thead>\n",
       "  <tbody>\n",
       "    <tr>\n",
       "      <th>4</th>\n",
       "      <td>0</td>\n",
       "      <td>Make decision_signed1</td>\n",
       "      <td>2023-09-29 09:09:44.239</td>\n",
       "      <td>Manager-000001</td>\n",
       "      <td>collateral events(Make decision)</td>\n",
       "    </tr>\n",
       "    <tr>\n",
       "      <th>5</th>\n",
       "      <td>0</td>\n",
       "      <td>Make decision_signed2</td>\n",
       "      <td>2023-09-29 09:09:44.239</td>\n",
       "      <td>Manager-000001</td>\n",
       "      <td>collateral events(Make decision)</td>\n",
       "    </tr>\n",
       "    <tr>\n",
       "      <th>13</th>\n",
       "      <td>1085</td>\n",
       "      <td>Make decision_signed1</td>\n",
       "      <td>2023-12-01 13:15:18.596</td>\n",
       "      <td>Manager-000001</td>\n",
       "      <td>collateral events(Make decision)</td>\n",
       "    </tr>\n",
       "    <tr>\n",
       "      <th>14</th>\n",
       "      <td>1085</td>\n",
       "      <td>Make decision_signed2</td>\n",
       "      <td>2023-12-01 13:15:18.996</td>\n",
       "      <td>Manager-000001</td>\n",
       "      <td>collateral events(Make decision)</td>\n",
       "    </tr>\n",
       "  </tbody>\n",
       "</table>\n",
       "</div>"
      ],
      "text/plain": [
       "    Case               Activity               Timestamp        Resource  \\\n",
       "4      0  Make decision_signed1 2023-09-29 09:09:44.239  Manager-000001   \n",
       "5      0  Make decision_signed2 2023-09-29 09:09:44.239  Manager-000001   \n",
       "13  1085  Make decision_signed1 2023-12-01 13:15:18.596  Manager-000001   \n",
       "14  1085  Make decision_signed2 2023-12-01 13:15:18.996  Manager-000001   \n",
       "\n",
       "                               label  \n",
       "4   collateral events(Make decision)  \n",
       "5   collateral events(Make decision)  \n",
       "13  collateral events(Make decision)  \n",
       "14  collateral events(Make decision)  "
      ]
     },
     "execution_count": 6,
     "metadata": {},
     "output_type": "execute_result"
    }
   ],
   "source": [
    "EL_polluted[EL_polluted['label'] !=  \"\"].head(4)"
   ]
  },
  {
   "cell_type": "markdown",
   "metadata": {},
   "source": [
    "### 3. Scattered Case pattern"
   ]
  },
  {
   "cell_type": "code",
   "execution_count": 7,
   "metadata": {},
   "outputs": [],
   "source": [
    "ELsys = generate_system(EL, nsys = 10)\n",
    "\n",
    "EL_polluted = ScatteredCase(ELsys,\n",
    "                            log_name= 'EL_scattered2',\n",
    "                            syslist = \"[System:('System2', 'System3')]\",\n",
    "                            tstart = \"2023-09-26 09:00:00.000\",\n",
    "                            tend = \"2023-12-26 09:00:00.000\",\n",
    "                            case_id_key = \"Case\",\n",
    "                            timestamp_key = \"Timestamp\")"
   ]
  },
  {
   "cell_type": "code",
   "execution_count": 8,
   "metadata": {},
   "outputs": [
    {
     "data": {
      "text/html": [
       "<div>\n",
       "<style scoped>\n",
       "    .dataframe tbody tr th:only-of-type {\n",
       "        vertical-align: middle;\n",
       "    }\n",
       "\n",
       "    .dataframe tbody tr th {\n",
       "        vertical-align: top;\n",
       "    }\n",
       "\n",
       "    .dataframe thead th {\n",
       "        text-align: right;\n",
       "    }\n",
       "</style>\n",
       "<table border=\"1\" class=\"dataframe\">\n",
       "  <thead>\n",
       "    <tr style=\"text-align: right;\">\n",
       "      <th></th>\n",
       "      <th>Case</th>\n",
       "      <th>Activity</th>\n",
       "      <th>Timestamp</th>\n",
       "      <th>Resource</th>\n",
       "      <th>System</th>\n",
       "      <th>label</th>\n",
       "    </tr>\n",
       "  </thead>\n",
       "  <tbody>\n",
       "    <tr>\n",
       "      <th>12949</th>\n",
       "      <td>0</td>\n",
       "      <td>Perform checks</td>\n",
       "      <td>2023-09-29 09:08:36.418</td>\n",
       "      <td>Clerk-000003</td>\n",
       "      <td>System0</td>\n",
       "      <td>Scattered cases(['Check for completeness', 'Ne...</td>\n",
       "    </tr>\n",
       "    <tr>\n",
       "      <th>12950</th>\n",
       "      <td>1</td>\n",
       "      <td>Perform checks</td>\n",
       "      <td>2023-09-29 09:10:28.617</td>\n",
       "      <td>Clerk-000004</td>\n",
       "      <td>System0</td>\n",
       "      <td>Scattered cases(['Check for completeness', 'Ne...</td>\n",
       "    </tr>\n",
       "    <tr>\n",
       "      <th>12951</th>\n",
       "      <td>2</td>\n",
       "      <td>Perform checks</td>\n",
       "      <td>2023-09-29 09:25:09.241</td>\n",
       "      <td>Clerk-000006</td>\n",
       "      <td>System0</td>\n",
       "      <td>Scattered cases(['Check for completeness', 'Ne...</td>\n",
       "    </tr>\n",
       "    <tr>\n",
       "      <th>12952</th>\n",
       "      <td>3</td>\n",
       "      <td>Perform checks</td>\n",
       "      <td>2023-09-29 11:26:10.630</td>\n",
       "      <td>Clerk-000002</td>\n",
       "      <td>System0</td>\n",
       "      <td>Scattered cases(['Check for completeness', 'Ne...</td>\n",
       "    </tr>\n",
       "  </tbody>\n",
       "</table>\n",
       "</div>"
      ],
      "text/plain": [
       "      Case        Activity               Timestamp      Resource   System  \\\n",
       "12949    0  Perform checks 2023-09-29 09:08:36.418  Clerk-000003  System0   \n",
       "12950    1  Perform checks 2023-09-29 09:10:28.617  Clerk-000004  System0   \n",
       "12951    2  Perform checks 2023-09-29 09:25:09.241  Clerk-000006  System0   \n",
       "12952    3  Perform checks 2023-09-29 11:26:10.630  Clerk-000002  System0   \n",
       "\n",
       "                                                   label  \n",
       "12949  Scattered cases(['Check for completeness', 'Ne...  \n",
       "12950  Scattered cases(['Check for completeness', 'Ne...  \n",
       "12951  Scattered cases(['Check for completeness', 'Ne...  \n",
       "12952  Scattered cases(['Check for completeness', 'Ne...  "
      ]
     },
     "execution_count": 8,
     "metadata": {},
     "output_type": "execute_result"
    }
   ],
   "source": [
    "EL_polluted[EL_polluted['label'] !=  \"\"].head(4)"
   ]
  },
  {
   "cell_type": "code",
   "execution_count": 11,
   "metadata": {},
   "outputs": [
    {
     "data": {
      "text/plain": [
       "\"homonymous Label(Activity:'Check for completeness')\""
      ]
     },
     "execution_count": 11,
     "metadata": {},
     "output_type": "execute_result"
    }
   ],
   "source": [
    "EL_polluted.loc[EL_polluted['label'] !=  \"\", 'label'].reset_index(drop=True)[0]"
   ]
  },
  {
   "cell_type": "markdown",
   "metadata": {},
   "source": [
    "### 4. Scattered Event pattern"
   ]
  },
  {
   "cell_type": "code",
   "execution_count": 12,
   "metadata": {},
   "outputs": [
    {
     "name": "stdout",
     "output_type": "stream",
     "text": [
      "Filtering step 1 . The number of cases in the time interval ( 2023-09-26 09:00:00.000 , 2023-12-26 09:00:00.000 ):  1505\n",
      "Filtering step 2 . The number of cases by declare rule:  34\n",
      "Filtering step 3 . The number of cases to be filtered by defined random portion:  24\n"
     ]
    }
   ],
   "source": [
    "\n",
    "# Scattered Events\n",
    "EL_polluted = ScatteredEvent(EL, \n",
    "                            target = \"[Activity:'Make decision'>>('Make revision1', 'Make revision2')]\",                                                   # \"[Activity:('Make decision', 'Notify accept', 'Deliver card')]\",\n",
    "                            action = \"[Resource]_[0-9:{2}][a-zA-Z:{5}]_[Timestamp*(%Y%m%d %H%M%S%f)]\",\n",
    "                            loc = \"[Description:idx(-1)]\",\n",
    "                            Del = True, \n",
    "                            ratio = 0.7, \n",
    "                            tstart = \"2023-09-26 09:00:00.000\",\n",
    "                            tend = \"2023-12-26 09:00:00.000\",\n",
    "                            DecConstraint = \"Chain Response[Make decision, Notify accept] |A.Resource is Manager-000001 |T.Resource is Manager-000003 |\", \n",
    "                            case_id_key = \"Case\",\n",
    "                            activity_key = \"Activity\",\n",
    "                            timestamp_key = \"Timestamp\")"
   ]
  },
  {
   "cell_type": "code",
   "execution_count": 13,
   "metadata": {},
   "outputs": [
    {
     "data": {
      "text/html": [
       "<div>\n",
       "<style scoped>\n",
       "    .dataframe tbody tr th:only-of-type {\n",
       "        vertical-align: middle;\n",
       "    }\n",
       "\n",
       "    .dataframe tbody tr th {\n",
       "        vertical-align: top;\n",
       "    }\n",
       "\n",
       "    .dataframe thead th {\n",
       "        text-align: right;\n",
       "    }\n",
       "</style>\n",
       "<table border=\"1\" class=\"dataframe\">\n",
       "  <thead>\n",
       "    <tr style=\"text-align: right;\">\n",
       "      <th></th>\n",
       "      <th>Case</th>\n",
       "      <th>Activity</th>\n",
       "      <th>Timestamp</th>\n",
       "      <th>Resource</th>\n",
       "      <th>Description</th>\n",
       "      <th>label</th>\n",
       "    </tr>\n",
       "  </thead>\n",
       "  <tbody>\n",
       "    <tr>\n",
       "      <th>3</th>\n",
       "      <td>0</td>\n",
       "      <td>Make decision</td>\n",
       "      <td>2023-09-29 09:09:43.339</td>\n",
       "      <td>Manager-000001</td>\n",
       "      <td>[Clerk-000003_43IOuSD_20230929 091201307000, C...</td>\n",
       "      <td>Scattered Events(Scattered attr = ['Resource',...</td>\n",
       "    </tr>\n",
       "    <tr>\n",
       "      <th>10</th>\n",
       "      <td>1085</td>\n",
       "      <td>Make decision</td>\n",
       "      <td>2023-12-01 13:15:17.696</td>\n",
       "      <td>Manager-000001</td>\n",
       "      <td>[Manager-000001_95Pgvch_20231201 131733798000,...</td>\n",
       "      <td>Scattered Events(Scattered attr = ['Resource',...</td>\n",
       "    </tr>\n",
       "    <tr>\n",
       "      <th>26</th>\n",
       "      <td>1113</td>\n",
       "      <td>Make decision</td>\n",
       "      <td>2023-12-04 07:15:07.899</td>\n",
       "      <td>Manager-000001</td>\n",
       "      <td>[Manager-000003_66dYlNZ_20231204 073055915000,...</td>\n",
       "      <td>Scattered Events(Scattered attr = ['Resource',...</td>\n",
       "    </tr>\n",
       "    <tr>\n",
       "      <th>33</th>\n",
       "      <td>1163</td>\n",
       "      <td>Make decision</td>\n",
       "      <td>2023-12-06 03:27:38.206</td>\n",
       "      <td>Manager-000001</td>\n",
       "      <td>[nan_34XTwPq_20231206 032815018666, nan_20bayi...</td>\n",
       "      <td>Scattered Events(Scattered attr = ['Resource',...</td>\n",
       "    </tr>\n",
       "  </tbody>\n",
       "</table>\n",
       "</div>"
      ],
      "text/plain": [
       "    Case       Activity               Timestamp        Resource  \\\n",
       "3      0  Make decision 2023-09-29 09:09:43.339  Manager-000001   \n",
       "10  1085  Make decision 2023-12-01 13:15:17.696  Manager-000001   \n",
       "26  1113  Make decision 2023-12-04 07:15:07.899  Manager-000001   \n",
       "33  1163  Make decision 2023-12-06 03:27:38.206  Manager-000001   \n",
       "\n",
       "                                          Description  \\\n",
       "3   [Clerk-000003_43IOuSD_20230929 091201307000, C...   \n",
       "10  [Manager-000001_95Pgvch_20231201 131733798000,...   \n",
       "26  [Manager-000003_66dYlNZ_20231204 073055915000,...   \n",
       "33  [nan_34XTwPq_20231206 032815018666, nan_20bayi...   \n",
       "\n",
       "                                                label  \n",
       "3   Scattered Events(Scattered attr = ['Resource',...  \n",
       "10  Scattered Events(Scattered attr = ['Resource',...  \n",
       "26  Scattered Events(Scattered attr = ['Resource',...  \n",
       "33  Scattered Events(Scattered attr = ['Resource',...  "
      ]
     },
     "execution_count": 13,
     "metadata": {},
     "output_type": "execute_result"
    }
   ],
   "source": [
    "EL_polluted[EL_polluted['label'] !=  \"\"].head(4)"
   ]
  },
  {
   "cell_type": "code",
   "execution_count": 14,
   "metadata": {},
   "outputs": [
    {
     "data": {
      "text/plain": [
       "\"Scattered Events(Scattered attr = ['Resource', 'Timestamp'], Activity:['Make revision1', 'Make revision2'])\""
      ]
     },
     "execution_count": 14,
     "metadata": {},
     "output_type": "execute_result"
    }
   ],
   "source": [
    "EL_polluted.loc[EL_polluted['label'] !=  \"\", 'label'].reset_index(drop=True)[0]"
   ]
  },
  {
   "cell_type": "markdown",
   "metadata": {},
   "source": [
    "### 5. Polluted Label pattern"
   ]
  },
  {
   "cell_type": "code",
   "execution_count": 15,
   "metadata": {},
   "outputs": [
    {
     "name": "stdout",
     "output_type": "stream",
     "text": [
      "Filtering step 1 . The number of cases in the time interval ( 2023-09-26 09:00:00.000 , 2023-12-26 09:00:00.000 ):  1505\n",
      "Filtering step 2 . The number of cases by declare rule:  34\n",
      "Filtering step 3 . The number of cases to be filtered by defined random portion:  24\n"
     ]
    }
   ],
   "source": [
    "# Polluted Label\n",
    "EL_polluted = PollutedLabel(EL, \n",
    "                            target = \"[Activity:('Perform checks', 'Make decision')]\",  # TBD: also numeric range\n",
    "                            action = \"[Activity]_[0-9:{2}][a-zA-Z:{5}]_[Timestamp*(%Y%m%d %H%M%S%f)]\",\n",
    "                            ratio = 0.7,\n",
    "                            tstart = \"2023-09-26 09:00:00.000\",\n",
    "                            tend = \"2023-12-26 09:00:00.000\",\n",
    "                            DecConstraint = \"Chain Response[Make decision, Notify accept] |A.Resource is Manager-000001 |T.Resource is Manager-000003 |\", \n",
    "                            case_id_key = \"Case\",\n",
    "                            timestamp_key = \"Timestamp\")"
   ]
  },
  {
   "cell_type": "code",
   "execution_count": 16,
   "metadata": {},
   "outputs": [
    {
     "data": {
      "text/html": [
       "<div>\n",
       "<style scoped>\n",
       "    .dataframe tbody tr th:only-of-type {\n",
       "        vertical-align: middle;\n",
       "    }\n",
       "\n",
       "    .dataframe tbody tr th {\n",
       "        vertical-align: top;\n",
       "    }\n",
       "\n",
       "    .dataframe thead th {\n",
       "        text-align: right;\n",
       "    }\n",
       "</style>\n",
       "<table border=\"1\" class=\"dataframe\">\n",
       "  <thead>\n",
       "    <tr style=\"text-align: right;\">\n",
       "      <th></th>\n",
       "      <th>Case</th>\n",
       "      <th>Activity</th>\n",
       "      <th>Timestamp</th>\n",
       "      <th>Resource</th>\n",
       "      <th>label</th>\n",
       "    </tr>\n",
       "  </thead>\n",
       "  <tbody>\n",
       "    <tr>\n",
       "      <th>2</th>\n",
       "      <td>0</td>\n",
       "      <td>Perform checks_68OcxkG_20230929 090836418000</td>\n",
       "      <td>2023-09-29 09:08:36.418</td>\n",
       "      <td>Clerk-000003</td>\n",
       "      <td>polluted Label(Activity:'Perform checks')</td>\n",
       "    </tr>\n",
       "    <tr>\n",
       "      <th>3</th>\n",
       "      <td>0</td>\n",
       "      <td>Make decision_39uDIyq_20230929 090943339000</td>\n",
       "      <td>2023-09-29 09:09:43.339</td>\n",
       "      <td>Manager-000001</td>\n",
       "      <td>polluted Label(Activity:'Make decision')</td>\n",
       "    </tr>\n",
       "    <tr>\n",
       "      <th>9</th>\n",
       "      <td>1085</td>\n",
       "      <td>Perform checks_23YRRfx_20231201 131322797000</td>\n",
       "      <td>2023-12-01 13:13:22.797</td>\n",
       "      <td>Clerk-000004</td>\n",
       "      <td>polluted Label(Activity:'Perform checks')</td>\n",
       "    </tr>\n",
       "    <tr>\n",
       "      <th>10</th>\n",
       "      <td>1085</td>\n",
       "      <td>Make decision_05jyzWW_20231201 131517696000</td>\n",
       "      <td>2023-12-01 13:15:17.696</td>\n",
       "      <td>Manager-000001</td>\n",
       "      <td>polluted Label(Activity:'Make decision')</td>\n",
       "    </tr>\n",
       "    <tr>\n",
       "      <th>25</th>\n",
       "      <td>1113</td>\n",
       "      <td>Perform checks_38DtACl_20231204 071440451000</td>\n",
       "      <td>2023-12-04 07:14:40.451</td>\n",
       "      <td>Clerk-000001</td>\n",
       "      <td>polluted Label(Activity:'Perform checks')</td>\n",
       "    </tr>\n",
       "  </tbody>\n",
       "</table>\n",
       "</div>"
      ],
      "text/plain": [
       "    Case                                      Activity  \\\n",
       "2      0  Perform checks_68OcxkG_20230929 090836418000   \n",
       "3      0   Make decision_39uDIyq_20230929 090943339000   \n",
       "9   1085  Perform checks_23YRRfx_20231201 131322797000   \n",
       "10  1085   Make decision_05jyzWW_20231201 131517696000   \n",
       "25  1113  Perform checks_38DtACl_20231204 071440451000   \n",
       "\n",
       "                 Timestamp        Resource  \\\n",
       "2  2023-09-29 09:08:36.418    Clerk-000003   \n",
       "3  2023-09-29 09:09:43.339  Manager-000001   \n",
       "9  2023-12-01 13:13:22.797    Clerk-000004   \n",
       "10 2023-12-01 13:15:17.696  Manager-000001   \n",
       "25 2023-12-04 07:14:40.451    Clerk-000001   \n",
       "\n",
       "                                        label  \n",
       "2   polluted Label(Activity:'Perform checks')  \n",
       "3    polluted Label(Activity:'Make decision')  \n",
       "9   polluted Label(Activity:'Perform checks')  \n",
       "10   polluted Label(Activity:'Make decision')  \n",
       "25  polluted Label(Activity:'Perform checks')  "
      ]
     },
     "execution_count": 16,
     "metadata": {},
     "output_type": "execute_result"
    }
   ],
   "source": [
    "EL_polluted[EL_polluted['label'] !=  \"\"].head(4)"
   ]
  },
  {
   "cell_type": "markdown",
   "metadata": {},
   "source": [
    "### 6. Synonymous Label pattern"
   ]
  },
  {
   "cell_type": "code",
   "execution_count": 17,
   "metadata": {},
   "outputs": [
    {
     "name": "stdout",
     "output_type": "stream",
     "text": [
      "Filtering step 1 . The number of cases in the time interval ( 2023-09-26 09:00:00.000 , 2023-12-26 09:00:00.000 ):  1505\n",
      "Filtering step 2 . The number of cases by declare rule:  34\n",
      "Filtering step 3 . The number of cases to be filtered by defined random portion:  24\n"
     ]
    }
   ],
   "source": [
    "EL_polluted = SynonymousLabel(EL, \n",
    "                            target = \"[Activity:('Perform checks')]\",\n",
    "                            syns = [\"Perform checks - Dep1\",  \"Perform checks - Dep2\", \"Perform checks - Dep3\"],\n",
    "                            prob = [0.1, 0.6, 0.3],\n",
    "                            ratio = 0.7,\n",
    "                            tstart = \"2023-09-26 09:00:00.000\",\n",
    "                            tend = \"2023-12-26 09:00:00.000\",\n",
    "                            DecConstraint = \"Chain Response[Make decision, Notify accept] |A.Resource is Manager-000001 |T.Resource is Manager-000003 |\", \n",
    "                            case_id_key = \"Case\",\n",
    "                            timestamp_key = \"Timestamp\")\n"
   ]
  },
  {
   "cell_type": "code",
   "execution_count": 18,
   "metadata": {},
   "outputs": [
    {
     "data": {
      "text/html": [
       "<div>\n",
       "<style scoped>\n",
       "    .dataframe tbody tr th:only-of-type {\n",
       "        vertical-align: middle;\n",
       "    }\n",
       "\n",
       "    .dataframe tbody tr th {\n",
       "        vertical-align: top;\n",
       "    }\n",
       "\n",
       "    .dataframe thead th {\n",
       "        text-align: right;\n",
       "    }\n",
       "</style>\n",
       "<table border=\"1\" class=\"dataframe\">\n",
       "  <thead>\n",
       "    <tr style=\"text-align: right;\">\n",
       "      <th></th>\n",
       "      <th>Case</th>\n",
       "      <th>Activity</th>\n",
       "      <th>Timestamp</th>\n",
       "      <th>Resource</th>\n",
       "      <th>label</th>\n",
       "    </tr>\n",
       "  </thead>\n",
       "  <tbody>\n",
       "    <tr>\n",
       "      <th>58807</th>\n",
       "      <td>97</td>\n",
       "      <td>Perform checks - Dep3</td>\n",
       "      <td>2023-10-04 14:33:28.710</td>\n",
       "      <td>Clerk-000005</td>\n",
       "      <td>synonymous label('Perform checks')</td>\n",
       "    </tr>\n",
       "    <tr>\n",
       "      <th>23902</th>\n",
       "      <td>510</td>\n",
       "      <td>Perform checks - Dep1</td>\n",
       "      <td>2023-10-30 01:22:06.896</td>\n",
       "      <td>Clerk-000002</td>\n",
       "      <td>synonymous label('Perform checks')</td>\n",
       "    </tr>\n",
       "    <tr>\n",
       "      <th>10406</th>\n",
       "      <td>556</td>\n",
       "      <td>Perform checks - Dep2</td>\n",
       "      <td>2023-11-01 01:51:12.379</td>\n",
       "      <td>Clerk-000005</td>\n",
       "      <td>synonymous label('Perform checks')</td>\n",
       "    </tr>\n",
       "    <tr>\n",
       "      <th>53521</th>\n",
       "      <td>575</td>\n",
       "      <td>Perform checks - Dep3</td>\n",
       "      <td>2023-11-01 20:50:44.810</td>\n",
       "      <td>Clerk-000005</td>\n",
       "      <td>synonymous label('Perform checks')</td>\n",
       "    </tr>\n",
       "  </tbody>\n",
       "</table>\n",
       "</div>"
      ],
      "text/plain": [
       "      Case               Activity               Timestamp      Resource  \\\n",
       "58807   97  Perform checks - Dep3 2023-10-04 14:33:28.710  Clerk-000005   \n",
       "23902  510  Perform checks - Dep1 2023-10-30 01:22:06.896  Clerk-000002   \n",
       "10406  556  Perform checks - Dep2 2023-11-01 01:51:12.379  Clerk-000005   \n",
       "53521  575  Perform checks - Dep3 2023-11-01 20:50:44.810  Clerk-000005   \n",
       "\n",
       "                                    label  \n",
       "58807  synonymous label('Perform checks')  \n",
       "23902  synonymous label('Perform checks')  \n",
       "10406  synonymous label('Perform checks')  \n",
       "53521  synonymous label('Perform checks')  "
      ]
     },
     "execution_count": 18,
     "metadata": {},
     "output_type": "execute_result"
    }
   ],
   "source": [
    "EL_polluted[EL_polluted['label'] !=  \"\"].head(4)"
   ]
  },
  {
   "cell_type": "markdown",
   "metadata": {},
   "source": [
    "### 7. Homonymous Label pattern"
   ]
  },
  {
   "cell_type": "code",
   "execution_count": 19,
   "metadata": {},
   "outputs": [
    {
     "name": "stdout",
     "output_type": "stream",
     "text": [
      "Filtering step 1 . The number of cases in the time interval ( 2023-09-26 09:00:00.000 , 2023-12-26 09:00:00.000 ):  1505\n",
      "Filtering step 2 . The number of cases by declare rule:  34\n",
      "Filtering step 3 . The number of cases to be filtered by defined random portion:  24\n"
     ]
    }
   ],
   "source": [
    "# Homonymous Label\n",
    "EL_polluted = HomonymousLabel(EL,\n",
    "                            target = \"[Activity:('Perform checks', 'Check for completeness')]\",\n",
    "                            hlabel = \"Check:homonymous\",\n",
    "                            ratio = 0.7,\n",
    "                            tstart = \"2023-09-26 09:00:00.000\",\n",
    "                            tend = \"2023-12-26 09:00:00.000\",\n",
    "                            DecConstraint = \"Chain Response[Make decision, Notify accept] |A.Resource is Manager-000001 |T.Resource is Manager-000003 |\", \n",
    "                            case_id_key = \"Case\",\n",
    "                            timestamp_key = \"Timestamp\")"
   ]
  },
  {
   "cell_type": "code",
   "execution_count": 20,
   "metadata": {},
   "outputs": [
    {
     "data": {
      "text/html": [
       "<div>\n",
       "<style scoped>\n",
       "    .dataframe tbody tr th:only-of-type {\n",
       "        vertical-align: middle;\n",
       "    }\n",
       "\n",
       "    .dataframe tbody tr th {\n",
       "        vertical-align: top;\n",
       "    }\n",
       "\n",
       "    .dataframe thead th {\n",
       "        text-align: right;\n",
       "    }\n",
       "</style>\n",
       "<table border=\"1\" class=\"dataframe\">\n",
       "  <thead>\n",
       "    <tr style=\"text-align: right;\">\n",
       "      <th></th>\n",
       "      <th>Case</th>\n",
       "      <th>Activity</th>\n",
       "      <th>Timestamp</th>\n",
       "      <th>Resource</th>\n",
       "      <th>label</th>\n",
       "    </tr>\n",
       "  </thead>\n",
       "  <tbody>\n",
       "    <tr>\n",
       "      <th>61800</th>\n",
       "      <td>154</td>\n",
       "      <td>Check:homonymous</td>\n",
       "      <td>2023-10-09 02:50:57.264</td>\n",
       "      <td>Clerk-000005</td>\n",
       "      <td>homonymous Label(Activity:'Check for completen...</td>\n",
       "    </tr>\n",
       "    <tr>\n",
       "      <th>61803</th>\n",
       "      <td>154</td>\n",
       "      <td>Check:homonymous</td>\n",
       "      <td>2023-10-09 02:58:29.207</td>\n",
       "      <td>Clerk-000001</td>\n",
       "      <td>homonymous Label(Activity:'Check for completen...</td>\n",
       "    </tr>\n",
       "    <tr>\n",
       "      <th>61806</th>\n",
       "      <td>154</td>\n",
       "      <td>Check:homonymous</td>\n",
       "      <td>2023-10-09 03:32:32.364</td>\n",
       "      <td>Clerk-000001</td>\n",
       "      <td>homonymous Label(Activity:'Check for completen...</td>\n",
       "    </tr>\n",
       "    <tr>\n",
       "      <th>61807</th>\n",
       "      <td>154</td>\n",
       "      <td>Check:homonymous</td>\n",
       "      <td>2023-10-09 03:56:24.704</td>\n",
       "      <td>Clerk-000002</td>\n",
       "      <td>homonymous Label(Activity:'Perform checks')</td>\n",
       "    </tr>\n",
       "  </tbody>\n",
       "</table>\n",
       "</div>"
      ],
      "text/plain": [
       "      Case          Activity               Timestamp      Resource  \\\n",
       "61800  154  Check:homonymous 2023-10-09 02:50:57.264  Clerk-000005   \n",
       "61803  154  Check:homonymous 2023-10-09 02:58:29.207  Clerk-000001   \n",
       "61806  154  Check:homonymous 2023-10-09 03:32:32.364  Clerk-000001   \n",
       "61807  154  Check:homonymous 2023-10-09 03:56:24.704  Clerk-000002   \n",
       "\n",
       "                                                   label  \n",
       "61800  homonymous Label(Activity:'Check for completen...  \n",
       "61803  homonymous Label(Activity:'Check for completen...  \n",
       "61806  homonymous Label(Activity:'Check for completen...  \n",
       "61807        homonymous Label(Activity:'Perform checks')  "
      ]
     },
     "execution_count": 20,
     "metadata": {},
     "output_type": "execute_result"
    }
   ],
   "source": [
    "EL_polluted[EL_polluted['label'] !=  \"\"].head(4)"
   ]
  },
  {
   "cell_type": "markdown",
   "metadata": {},
   "source": [
    "### 8. Elusive Case pattern"
   ]
  },
  {
   "cell_type": "code",
   "execution_count": 21,
   "metadata": {},
   "outputs": [
    {
     "name": "stdout",
     "output_type": "stream",
     "text": [
      "Filtering step 1 . The number of cases in the time interval ( 2023-09-26 09:00:00.000 , 2023-12-26 09:00:00.000 ):  1505\n",
      "Filtering step 2 . The number of cases by declare rule:  34\n",
      "Filtering step 3 . The number of cases to be filtered by defined random portion:  24\n",
      "Generating draft IDs... (the below count is based on variant-level)\n"
     ]
    },
    {
     "name": "stderr",
     "output_type": "stream",
     "text": [
      "100%|██████████| 12/12 [00:00<00:00, 1089.97it/s]\n"
     ]
    }
   ],
   "source": [
    "# Elusive Case \n",
    "EL_polluted = ElusiveCase(EL,\n",
    "                        method = 'Variant', # 'Variant', 'KMeans'\n",
    "                        gnum = 4,     # gnum = 4,   n_clusters = 100\n",
    "                        ratio = 0.7,\n",
    "                        tstart = \"2023-09-26 09:00:00.000\",\n",
    "                        tend = \"2023-12-26 09:00:00.000\",\n",
    "                        DecConstraint = \"Chain Response[Make decision, Notify accept] |A.Resource is Manager-000001 |T.Resource is Manager-000003 |\", \n",
    "                        case_id_key = \"Case\",\n",
    "                        activity_key = \"Activity\",\n",
    "                        timestamp_key = \"Timestamp\")"
   ]
  },
  {
   "cell_type": "code",
   "execution_count": 22,
   "metadata": {},
   "outputs": [
    {
     "data": {
      "text/html": [
       "<div>\n",
       "<style scoped>\n",
       "    .dataframe tbody tr th:only-of-type {\n",
       "        vertical-align: middle;\n",
       "    }\n",
       "\n",
       "    .dataframe tbody tr th {\n",
       "        vertical-align: top;\n",
       "    }\n",
       "\n",
       "    .dataframe thead th {\n",
       "        text-align: right;\n",
       "    }\n",
       "</style>\n",
       "<table border=\"1\" class=\"dataframe\">\n",
       "  <thead>\n",
       "    <tr style=\"text-align: right;\">\n",
       "      <th></th>\n",
       "      <th>Activity</th>\n",
       "      <th>Timestamp</th>\n",
       "      <th>Resource</th>\n",
       "      <th>draft_ID</th>\n",
       "      <th>label</th>\n",
       "    </tr>\n",
       "  </thead>\n",
       "  <tbody>\n",
       "    <tr>\n",
       "      <th>0</th>\n",
       "      <td>Check for completeness</td>\n",
       "      <td>2023-09-29 09:00:00.000</td>\n",
       "      <td>Clerk-000001</td>\n",
       "      <td>draft_0</td>\n",
       "      <td>0</td>\n",
       "    </tr>\n",
       "    <tr>\n",
       "      <th>1</th>\n",
       "      <td>New online application received</td>\n",
       "      <td>2023-09-29 09:00:00.000</td>\n",
       "      <td>NaN</td>\n",
       "      <td>draft_0</td>\n",
       "      <td>0</td>\n",
       "    </tr>\n",
       "    <tr>\n",
       "      <th>2</th>\n",
       "      <td>Perform checks</td>\n",
       "      <td>2023-09-29 09:08:36.418</td>\n",
       "      <td>Clerk-000003</td>\n",
       "      <td>draft_0</td>\n",
       "      <td>0</td>\n",
       "    </tr>\n",
       "    <tr>\n",
       "      <th>3</th>\n",
       "      <td>Make decision</td>\n",
       "      <td>2023-09-29 09:09:43.339</td>\n",
       "      <td>Manager-000001</td>\n",
       "      <td>draft_0</td>\n",
       "      <td>0</td>\n",
       "    </tr>\n",
       "  </tbody>\n",
       "</table>\n",
       "</div>"
      ],
      "text/plain": [
       "                          Activity               Timestamp        Resource  \\\n",
       "0           Check for completeness 2023-09-29 09:00:00.000    Clerk-000001   \n",
       "1  New online application received 2023-09-29 09:00:00.000             NaN   \n",
       "2                   Perform checks 2023-09-29 09:08:36.418    Clerk-000003   \n",
       "3                    Make decision 2023-09-29 09:09:43.339  Manager-000001   \n",
       "\n",
       "  draft_ID label  \n",
       "0  draft_0     0  \n",
       "1  draft_0     0  \n",
       "2  draft_0     0  \n",
       "3  draft_0     0  "
      ]
     },
     "execution_count": 22,
     "metadata": {},
     "output_type": "execute_result"
    }
   ],
   "source": [
    "EL_polluted[EL_polluted['label'] !=  \"\"].head(4)"
   ]
  },
  {
   "cell_type": "code",
   "execution_count": 23,
   "metadata": {},
   "outputs": [
    {
     "name": "stdout",
     "output_type": "stream",
     "text": [
      "Filtering step 1 . The number of cases in the time interval ( 2023-09-26 09:00:00.000 , 2023-12-26 09:00:00.000 ):  1505\n",
      "Filtering step 2 . The number of cases by declare rule:  34\n",
      "Filtering step 3 . The number of cases to be filtered by defined random portion:  24\n",
      "The size of each cluster is:\n",
      "draft_ID\n",
      "draft_1    12\n",
      "draft_2    10\n",
      "draft_0     1\n",
      "draft_3     1\n",
      "Name: count, dtype: int64\n"
     ]
    }
   ],
   "source": [
    "# Elusive Case with KMeans\n",
    "EL_polluted = ElusiveCase(EL,\n",
    "                        method = 'KMeans', # 'Variant', 'KMeans'\n",
    "                        gnum = 4,     # gnum = 4,   gnum = 100 (for KMeans)\n",
    "                        ratio = 0.7,\n",
    "                        tstart = \"2023-09-26 09:00:00.000\",\n",
    "                        tend = \"2023-12-26 09:00:00.000\",\n",
    "                        DecConstraint = \"Chain Response[Make decision, Notify accept] |A.Resource is Manager-000001 |T.Resource is Manager-000003 |\", \n",
    "                        case_id_key = \"Case\",\n",
    "                        activity_key = \"Activity\",\n",
    "                        timestamp_key = \"Timestamp\")"
   ]
  },
  {
   "cell_type": "code",
   "execution_count": 24,
   "metadata": {},
   "outputs": [
    {
     "data": {
      "text/html": [
       "<div>\n",
       "<style scoped>\n",
       "    .dataframe tbody tr th:only-of-type {\n",
       "        vertical-align: middle;\n",
       "    }\n",
       "\n",
       "    .dataframe tbody tr th {\n",
       "        vertical-align: top;\n",
       "    }\n",
       "\n",
       "    .dataframe thead th {\n",
       "        text-align: right;\n",
       "    }\n",
       "</style>\n",
       "<table border=\"1\" class=\"dataframe\">\n",
       "  <thead>\n",
       "    <tr style=\"text-align: right;\">\n",
       "      <th></th>\n",
       "      <th>Activity</th>\n",
       "      <th>Timestamp</th>\n",
       "      <th>Resource</th>\n",
       "      <th>draft_ID</th>\n",
       "      <th>label</th>\n",
       "    </tr>\n",
       "  </thead>\n",
       "  <tbody>\n",
       "    <tr>\n",
       "      <th>0</th>\n",
       "      <td>Check for completeness</td>\n",
       "      <td>2023-09-29 09:00:00.000</td>\n",
       "      <td>Clerk-000001</td>\n",
       "      <td>draft_1</td>\n",
       "      <td>0</td>\n",
       "    </tr>\n",
       "    <tr>\n",
       "      <th>1</th>\n",
       "      <td>New online application received</td>\n",
       "      <td>2023-09-29 09:00:00.000</td>\n",
       "      <td>NaN</td>\n",
       "      <td>draft_1</td>\n",
       "      <td>0</td>\n",
       "    </tr>\n",
       "    <tr>\n",
       "      <th>2</th>\n",
       "      <td>Perform checks</td>\n",
       "      <td>2023-09-29 09:08:36.418</td>\n",
       "      <td>Clerk-000003</td>\n",
       "      <td>draft_1</td>\n",
       "      <td>0</td>\n",
       "    </tr>\n",
       "    <tr>\n",
       "      <th>3</th>\n",
       "      <td>Make decision</td>\n",
       "      <td>2023-09-29 09:09:43.339</td>\n",
       "      <td>Manager-000001</td>\n",
       "      <td>draft_1</td>\n",
       "      <td>0</td>\n",
       "    </tr>\n",
       "  </tbody>\n",
       "</table>\n",
       "</div>"
      ],
      "text/plain": [
       "                          Activity               Timestamp        Resource  \\\n",
       "0           Check for completeness 2023-09-29 09:00:00.000    Clerk-000001   \n",
       "1  New online application received 2023-09-29 09:00:00.000             NaN   \n",
       "2                   Perform checks 2023-09-29 09:08:36.418    Clerk-000003   \n",
       "3                    Make decision 2023-09-29 09:09:43.339  Manager-000001   \n",
       "\n",
       "  draft_ID label  \n",
       "0  draft_1     0  \n",
       "1  draft_1     0  \n",
       "2  draft_1     0  \n",
       "3  draft_1     0  "
      ]
     },
     "execution_count": 24,
     "metadata": {},
     "output_type": "execute_result"
    }
   ],
   "source": [
    "EL_polluted[EL_polluted['label'] !=  \"\"].head(4)"
   ]
  },
  {
   "cell_type": "markdown",
   "metadata": {},
   "source": [
    "### 9. Unanchored Event pattern"
   ]
  },
  {
   "cell_type": "code",
   "execution_count": 25,
   "metadata": {},
   "outputs": [
    {
     "name": "stdout",
     "output_type": "stream",
     "text": [
      "Filtering step 1 . The number of cases in the time interval ( 2023-09-26 09:00:00.000 , 2023-12-26 09:00:00.000 ):  1505\n",
      "Filtering step 2 . The number of cases by declare rule:  34\n"
     ]
    }
   ],
   "source": [
    "ELsys = generate_system(EL, nsys =10)\n",
    "# Unanchored Event\n",
    "EL_polluted = UnanchoredEvent(ELsys, \n",
    "                            syslist = \"[System:('System1', 'System3')]\",\n",
    "                            TimeFormat = \"%Y/%m/%d %H:%M:%S.%f\", \n",
    "                            tstart = \"2023-09-26 09:00:00.000\",\n",
    "                            tend = \"2023-12-26 09:00:00.000\",\n",
    "                            DecConstraint = \"Chain Response[Make decision, Notify accept] |A.Resource is Manager-000001 |T.Resource is Manager-000003 |\", \n",
    "                            case_id_key = \"Case\",\n",
    "                            timestamp_key = \"Timestamp\")"
   ]
  },
  {
   "cell_type": "code",
   "execution_count": 26,
   "metadata": {},
   "outputs": [
    {
     "data": {
      "text/html": [
       "<div>\n",
       "<style scoped>\n",
       "    .dataframe tbody tr th:only-of-type {\n",
       "        vertical-align: middle;\n",
       "    }\n",
       "\n",
       "    .dataframe tbody tr th {\n",
       "        vertical-align: top;\n",
       "    }\n",
       "\n",
       "    .dataframe thead th {\n",
       "        text-align: right;\n",
       "    }\n",
       "</style>\n",
       "<table border=\"1\" class=\"dataframe\">\n",
       "  <thead>\n",
       "    <tr style=\"text-align: right;\">\n",
       "      <th></th>\n",
       "      <th>Case</th>\n",
       "      <th>Activity</th>\n",
       "      <th>Timestamp</th>\n",
       "      <th>Resource</th>\n",
       "      <th>System</th>\n",
       "      <th>label</th>\n",
       "    </tr>\n",
       "  </thead>\n",
       "  <tbody>\n",
       "    <tr>\n",
       "      <th>0</th>\n",
       "      <td>0</td>\n",
       "      <td>Check for completeness</td>\n",
       "      <td>2023/09/29 09:00:00.000000</td>\n",
       "      <td>Clerk-000001</td>\n",
       "      <td>System3</td>\n",
       "      <td>unanchored event(2023-09-29 09:00:00)</td>\n",
       "    </tr>\n",
       "    <tr>\n",
       "      <th>248</th>\n",
       "      <td>97</td>\n",
       "      <td>Check for completeness</td>\n",
       "      <td>2023/10/04 14:18:44.672000</td>\n",
       "      <td>Clerk-000003</td>\n",
       "      <td>System3</td>\n",
       "      <td>unanchored event(2023-10-04 14:18:44.672000)</td>\n",
       "    </tr>\n",
       "    <tr>\n",
       "      <th>425</th>\n",
       "      <td>154</td>\n",
       "      <td>Check for completeness</td>\n",
       "      <td>2023/10/09 02:50:57.264000</td>\n",
       "      <td>Clerk-000005</td>\n",
       "      <td>System3</td>\n",
       "      <td>unanchored event(2023-10-09 02:50:57.264000)</td>\n",
       "    </tr>\n",
       "    <tr>\n",
       "      <th>426</th>\n",
       "      <td>154</td>\n",
       "      <td>Check for completeness</td>\n",
       "      <td>2023/10/09 02:58:29.207000</td>\n",
       "      <td>Clerk-000001</td>\n",
       "      <td>System3</td>\n",
       "      <td>unanchored event(2023-10-09 02:58:29.207000)</td>\n",
       "    </tr>\n",
       "  </tbody>\n",
       "</table>\n",
       "</div>"
      ],
      "text/plain": [
       "    Case                Activity                   Timestamp      Resource  \\\n",
       "0      0  Check for completeness  2023/09/29 09:00:00.000000  Clerk-000001   \n",
       "248   97  Check for completeness  2023/10/04 14:18:44.672000  Clerk-000003   \n",
       "425  154  Check for completeness  2023/10/09 02:50:57.264000  Clerk-000005   \n",
       "426  154  Check for completeness  2023/10/09 02:58:29.207000  Clerk-000001   \n",
       "\n",
       "      System                                         label  \n",
       "0    System3         unanchored event(2023-09-29 09:00:00)  \n",
       "248  System3  unanchored event(2023-10-04 14:18:44.672000)  \n",
       "425  System3  unanchored event(2023-10-09 02:50:57.264000)  \n",
       "426  System3  unanchored event(2023-10-09 02:58:29.207000)  "
      ]
     },
     "execution_count": 26,
     "metadata": {},
     "output_type": "execute_result"
    }
   ],
   "source": [
    "EL_polluted[EL_polluted['label'] !=  \"\"].head(4)"
   ]
  },
  {
   "cell_type": "markdown",
   "metadata": {},
   "source": [
    "### 10. Distored Label pattern"
   ]
  },
  {
   "cell_type": "code",
   "execution_count": 3,
   "metadata": {},
   "outputs": [
    {
     "name": "stdout",
     "output_type": "stream",
     "text": [
      "Filtering step 1 . The number of cases in the time interval ( 2023-09-26 09:00:00.000 , 2023-12-26 09:00:00.000 ):  1505\n",
      "Filtering step 2 . The number of cases by declare rule:  34\n",
      "Filtering step 3 . The number of cases to be filtered by defined random portion:  24\n",
      "Total number of events with resource's mistake:  19\n"
     ]
    }
   ],
   "source": [
    "# Distorted Label\n",
    "EL_polluted = DistortedLabel(EL, \n",
    "                          who = \"[Resource:(random{m=0.05, s=0.01})]\",    #[Resource:('Manager-000001)]\n",
    "                          distortion = \"[Activity:random(Skip, Insert, Interchange, UpLow, Proximity)]\",  # \"[Activity:({'Check for completeness':'check for completeness'})]\",\n",
    "                          ratio = 0.7,\n",
    "                          tstart = \"2023-09-26 09:00:00.000\",\n",
    "                          tend = \"2023-12-26 09:00:00.000\",\n",
    "                          DecConstraint = \"Chain Response[Make decision, Notify accept] |A.Resource is Manager-000001 |T.Resource is Manager-000003 |\", \n",
    "                          case_id_key = \"Case\",\n",
    "                          timestamp_key = \"Timestamp\")"
   ]
  },
  {
   "cell_type": "code",
   "execution_count": 4,
   "metadata": {},
   "outputs": [
    {
     "data": {
      "text/html": [
       "<div>\n",
       "<style scoped>\n",
       "    .dataframe tbody tr th:only-of-type {\n",
       "        vertical-align: middle;\n",
       "    }\n",
       "\n",
       "    .dataframe tbody tr th {\n",
       "        vertical-align: top;\n",
       "    }\n",
       "\n",
       "    .dataframe thead th {\n",
       "        text-align: right;\n",
       "    }\n",
       "</style>\n",
       "<table border=\"1\" class=\"dataframe\">\n",
       "  <thead>\n",
       "    <tr style=\"text-align: right;\">\n",
       "      <th></th>\n",
       "      <th>Case</th>\n",
       "      <th>Activity</th>\n",
       "      <th>Timestamp</th>\n",
       "      <th>Resource</th>\n",
       "      <th>label</th>\n",
       "    </tr>\n",
       "  </thead>\n",
       "  <tbody>\n",
       "    <tr>\n",
       "      <th>0</th>\n",
       "      <td>1203</td>\n",
       "      <td>Request nifo</td>\n",
       "      <td>2023-12-08 05:44:54.933</td>\n",
       "      <td>Manager-000006</td>\n",
       "      <td>distorted label(Interchange)</td>\n",
       "    </tr>\n",
       "    <tr>\n",
       "      <th>1</th>\n",
       "      <td>1203</td>\n",
       "      <td>Delive card</td>\n",
       "      <td>2023-12-08 06:29:52.572</td>\n",
       "      <td>Manager-000006</td>\n",
       "      <td>distorted label(Skip)</td>\n",
       "    </tr>\n",
       "    <tr>\n",
       "      <th>2</th>\n",
       "      <td>1205</td>\n",
       "      <td>Ceck for completeness</td>\n",
       "      <td>2023-12-08 06:46:49.155</td>\n",
       "      <td>Clerk-000004</td>\n",
       "      <td>distorted label(Skip)</td>\n",
       "    </tr>\n",
       "    <tr>\n",
       "      <th>3</th>\n",
       "      <td>1205</td>\n",
       "      <td>info receifed</td>\n",
       "      <td>2023-12-08 07:02:47.763</td>\n",
       "      <td>NaN</td>\n",
       "      <td>distorted label(Proximity)</td>\n",
       "    </tr>\n",
       "  </tbody>\n",
       "</table>\n",
       "</div>"
      ],
      "text/plain": [
       "   Case               Activity               Timestamp        Resource  \\\n",
       "0  1203           Request nifo 2023-12-08 05:44:54.933  Manager-000006   \n",
       "1  1203            Delive card 2023-12-08 06:29:52.572  Manager-000006   \n",
       "2  1205  Ceck for completeness 2023-12-08 06:46:49.155    Clerk-000004   \n",
       "3  1205          info receifed 2023-12-08 07:02:47.763             NaN   \n",
       "\n",
       "                          label  \n",
       "0  distorted label(Interchange)  \n",
       "1         distorted label(Skip)  \n",
       "2         distorted label(Skip)  \n",
       "3    distorted label(Proximity)  "
      ]
     },
     "execution_count": 4,
     "metadata": {},
     "output_type": "execute_result"
    }
   ],
   "source": [
    "EL_polluted[EL_polluted['label'] !=  \"\"].head(4)"
   ]
  },
  {
   "cell_type": "code",
   "execution_count": 3,
   "metadata": {},
   "outputs": [
    {
     "name": "stdout",
     "output_type": "stream",
     "text": [
      "Filtering step 1 . The number of cases in the time interval ( 2023-09-26 09:00:00.000 , 2023-12-26 09:00:00.000 ):  1505\n",
      "Filtering step 2 . The number of cases by declare rule:  34\n",
      "Filtering step 3 . The number of cases to be filtered by defined random portion:  24\n"
     ]
    }
   ],
   "source": [
    "# Distorted Label\n",
    "EL_polluted = DistortedLabel(EL, \n",
    "                          distortion = \"[Activity:({'Check for completeness':'check for completeness'})]\",\n",
    "                          prob = 0.3,\n",
    "                          ratio = 0.7,\n",
    "                          tstart = \"2023-09-26 09:00:00.000\",\n",
    "                          tend = \"2023-12-26 09:00:00.000\",\n",
    "                          DecConstraint = \"Chain Response[Make decision, Notify accept] |A.Resource is Manager-000001 |T.Resource is Manager-000003 |\", \n",
    "                          case_id_key = \"Case\",\n",
    "                          timestamp_key = \"Timestamp\")"
   ]
  },
  {
   "cell_type": "code",
   "execution_count": 4,
   "metadata": {},
   "outputs": [
    {
     "data": {
      "text/html": [
       "<div>\n",
       "<style scoped>\n",
       "    .dataframe tbody tr th:only-of-type {\n",
       "        vertical-align: middle;\n",
       "    }\n",
       "\n",
       "    .dataframe tbody tr th {\n",
       "        vertical-align: top;\n",
       "    }\n",
       "\n",
       "    .dataframe thead th {\n",
       "        text-align: right;\n",
       "    }\n",
       "</style>\n",
       "<table border=\"1\" class=\"dataframe\">\n",
       "  <thead>\n",
       "    <tr style=\"text-align: right;\">\n",
       "      <th></th>\n",
       "      <th>Case</th>\n",
       "      <th>Activity</th>\n",
       "      <th>Timestamp</th>\n",
       "      <th>Resource</th>\n",
       "      <th>label</th>\n",
       "    </tr>\n",
       "  </thead>\n",
       "  <tbody>\n",
       "    <tr>\n",
       "      <th>7</th>\n",
       "      <td>801</td>\n",
       "      <td>check for completeness</td>\n",
       "      <td>2023-11-15 22:18:04.905</td>\n",
       "      <td>Clerk-000003</td>\n",
       "      <td>distorted label(Check for completeness:check f...</td>\n",
       "    </tr>\n",
       "    <tr>\n",
       "      <th>8</th>\n",
       "      <td>701</td>\n",
       "      <td>check for completeness</td>\n",
       "      <td>2023-11-09 13:11:50.880</td>\n",
       "      <td>Clerk-000001</td>\n",
       "      <td>distorted label(Check for completeness:check f...</td>\n",
       "    </tr>\n",
       "    <tr>\n",
       "      <th>9</th>\n",
       "      <td>283</td>\n",
       "      <td>check for completeness</td>\n",
       "      <td>2023-10-13 15:49:53.049</td>\n",
       "      <td>Clerk-000006</td>\n",
       "      <td>distorted label(Check for completeness:check f...</td>\n",
       "    </tr>\n",
       "    <tr>\n",
       "      <th>10</th>\n",
       "      <td>695</td>\n",
       "      <td>check for completeness</td>\n",
       "      <td>2023-11-09 05:54:53.445</td>\n",
       "      <td>Clerk-000003</td>\n",
       "      <td>distorted label(Check for completeness:check f...</td>\n",
       "    </tr>\n",
       "  </tbody>\n",
       "</table>\n",
       "</div>"
      ],
      "text/plain": [
       "   Case                Activity               Timestamp      Resource  \\\n",
       "7   801  check for completeness 2023-11-15 22:18:04.905  Clerk-000003   \n",
       "8   701  check for completeness 2023-11-09 13:11:50.880  Clerk-000001   \n",
       "9   283  check for completeness 2023-10-13 15:49:53.049  Clerk-000006   \n",
       "10  695  check for completeness 2023-11-09 05:54:53.445  Clerk-000003   \n",
       "\n",
       "                                                label  \n",
       "7   distorted label(Check for completeness:check f...  \n",
       "8   distorted label(Check for completeness:check f...  \n",
       "9   distorted label(Check for completeness:check f...  \n",
       "10  distorted label(Check for completeness:check f...  "
      ]
     },
     "execution_count": 4,
     "metadata": {},
     "output_type": "execute_result"
    }
   ],
   "source": [
    "EL_polluted[EL_polluted['label'] !=  \"\"].head(4)"
   ]
  },
  {
   "cell_type": "code",
   "execution_count": 5,
   "metadata": {},
   "outputs": [
    {
     "data": {
      "text/plain": [
       "'distorted label(Check for completeness:check for completeness)'"
      ]
     },
     "execution_count": 5,
     "metadata": {},
     "output_type": "execute_result"
    }
   ],
   "source": [
    "EL_polluted.loc[EL_polluted['label'] !=  \"\", 'label'].reset_index(drop=True)[0]"
   ]
  },
  {
   "cell_type": "markdown",
   "metadata": {},
   "source": [
    "### 11. Inadvertent Time Travel pattern"
   ]
  },
  {
   "cell_type": "code",
   "execution_count": 29,
   "metadata": {},
   "outputs": [
    {
     "name": "stdout",
     "output_type": "stream",
     "text": [
      "Filtering step 1 . The number of cases in the time interval ( 2023-09-26 09:00:00.000 , 2024-02-26 09:00:00.000 ):  2545\n",
      "Filtering step 2 . The number of cases by declare rule:  54\n",
      "Filtering step 3 . The number of cases to be filtered by defined random portion:  54\n"
     ]
    }
   ],
   "source": [
    "# Distorted Label\n",
    "EL_polluted = InadvertentTimeTravel(EL, \n",
    "                          target = \"[Activity:('Perform checks', 'Check for completeness')]\",\n",
    "                          tunit = \"year\",    #day, month, year\n",
    "                          prob_func = \"poisson\",  # poisson, exponential\n",
    "                          tstart = \"2023-09-26 09:00:00.000\",\n",
    "                          tend = \"2024-02-26 09:00:00.000\",\n",
    "                          DecConstraint = \"Chain Response[Make decision, Notify accept] |A.Resource is Manager-000001 |T.Resource is Manager-000003 |\", \n",
    "                          ratio = 1.0,\n",
    "                          case_id_key = \"Case\",\n",
    "                          timestamp_key = \"Timestamp\")"
   ]
  },
  {
   "cell_type": "code",
   "execution_count": 30,
   "metadata": {},
   "outputs": [
    {
     "data": {
      "text/html": [
       "<div>\n",
       "<style scoped>\n",
       "    .dataframe tbody tr th:only-of-type {\n",
       "        vertical-align: middle;\n",
       "    }\n",
       "\n",
       "    .dataframe tbody tr th {\n",
       "        vertical-align: top;\n",
       "    }\n",
       "\n",
       "    .dataframe thead th {\n",
       "        text-align: right;\n",
       "    }\n",
       "</style>\n",
       "<table border=\"1\" class=\"dataframe\">\n",
       "  <thead>\n",
       "    <tr style=\"text-align: right;\">\n",
       "      <th></th>\n",
       "      <th>Case</th>\n",
       "      <th>Activity</th>\n",
       "      <th>Timestamp</th>\n",
       "      <th>Resource</th>\n",
       "      <th>label</th>\n",
       "    </tr>\n",
       "  </thead>\n",
       "  <tbody>\n",
       "    <tr>\n",
       "      <th>37091</th>\n",
       "      <td>1636</td>\n",
       "      <td>Perform checks</td>\n",
       "      <td>2023-01-03 01:24:39.729</td>\n",
       "      <td>Clerk-000005</td>\n",
       "      <td>inadvertent time(year:2024-01-03 01:24:39.729000)</td>\n",
       "    </tr>\n",
       "  </tbody>\n",
       "</table>\n",
       "</div>"
      ],
      "text/plain": [
       "       Case        Activity               Timestamp      Resource  \\\n",
       "37091  1636  Perform checks 2023-01-03 01:24:39.729  Clerk-000005   \n",
       "\n",
       "                                                   label  \n",
       "37091  inadvertent time(year:2024-01-03 01:24:39.729000)  "
      ]
     },
     "execution_count": 30,
     "metadata": {},
     "output_type": "execute_result"
    }
   ],
   "source": [
    "EL_polluted[EL_polluted['label'] !=  \"\"].head(4)"
   ]
  },
  {
   "cell_type": "code",
   "execution_count": null,
   "metadata": {},
   "outputs": [],
   "source": []
  }
 ],
 "metadata": {
  "kernelspec": {
   "display_name": "Python 3",
   "language": "python",
   "name": "python3"
  },
  "language_info": {
   "codemirror_mode": {
    "name": "ipython",
    "version": 3
   },
   "file_extension": ".py",
   "mimetype": "text/x-python",
   "name": "python",
   "nbconvert_exporter": "python",
   "pygments_lexer": "ipython3",
   "version": "3.11.9"
  }
 },
 "nbformat": 4,
 "nbformat_minor": 2
}
