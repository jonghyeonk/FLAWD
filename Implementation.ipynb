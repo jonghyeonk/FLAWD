{
 "cells": [
  {
   "cell_type": "code",
   "execution_count": 1,
   "metadata": {},
   "outputs": [],
   "source": [
    "import os\n",
    "import warnings\n",
    "warnings.filterwarnings(action='ignore')\n",
    "import pandas as pd\n",
    "from datetime import datetime\n",
    "from utils.filtering import generate_system\n",
    "\n",
    "org_path = os.getcwd()\n",
    "input_path = os.sep.join([str(org_path), \"input\"])"
   ]
  },
  {
   "cell_type": "code",
   "execution_count": 2,
   "metadata": {},
   "outputs": [
    {
     "name": "stdout",
     "output_type": "stream",
     "text": [
      "['credit-card-new.csv']\n"
     ]
    }
   ],
   "source": [
    "# Show a list of data in 'input' folder\n",
    "file_list = os.listdir(input_path)\n",
    "csv_list = [s for s in file_list if 'credit-card-new.csv' in s]\n",
    "print(csv_list)\n",
    "ratio= 0.01\n",
    "\n",
    "for dat in csv_list:\n",
    "    # [Page for data import]\n",
    "    event_log = pd.read_csv(input_path+ '\\\\' + dat)\n",
    "    if sum( [x in dat for x in ['Small', 'Medium', 'Large', 'Huge', 'Wide']]) > 0:\n",
    "        extracted_data = event_log[['Case', 'Activity', 'Timestamp']]\n",
    "        form = \"%Y/%m/%d %H:%M:%S.%f\"    \n",
    "    elif sum( [x in dat for x in ['credit-card-new']]) > 0:\n",
    "        extracted_data = event_log[['Case ID', 'Activity', 'Start Timestamp', 'Resource']]\n",
    "        extracted_data.columns = [\"Case\", \"Activity\", \"Timestamp\", 'Resource']\n",
    "        form = \"%Y-%m-%d %H:%M:%S.%f\" \n",
    "    elif sum( [x in dat for x in ['mccloud', 'credit-card']]) > 0:\n",
    "        extracted_data = event_log[['Case', 'Activity', 'Timestamp']]\n",
    "        form = \"%Y-%m-%d %H:%M:%S.%f\" \n",
    "    \n",
    "    else:\n",
    "        extracted_data = event_log[['Case.ID', 'Activity', 'Complete.Timestamp']]\n",
    "        form = \"%Y-%m-%d %H:%M:%S.%f\"\n",
    "\n",
    "    if \"Event\" not in extracted_data.columns:\n",
    "        extracted_data[\"Event\"] = list(range(0,len(event_log.index)))\n",
    "\n",
    "    extracted_data = extracted_data.sort_values([\"Case\", \"Timestamp\", \"Activity\"],ascending=[True, True, True]) # Reorder rows\n",
    "    extracted_data.Case = extracted_data.Case.astype(str) \n",
    "    time = extracted_data['Timestamp'].apply(lambda x: datetime.strptime(x, form))\n",
    "    extracted_data['Timestamp'] = time\n",
    "    EL = extracted_data.copy()\n",
    "    EL = EL.dropna(subset=['Case'])\n",
    "    del extracted_data['Event']\n",
    "    del EL['Event']"
   ]
  },
  {
   "cell_type": "code",
   "execution_count": 3,
   "metadata": {},
   "outputs": [
    {
     "data": {
      "text/html": [
       "<div>\n",
       "<style scoped>\n",
       "    .dataframe tbody tr th:only-of-type {\n",
       "        vertical-align: middle;\n",
       "    }\n",
       "\n",
       "    .dataframe tbody tr th {\n",
       "        vertical-align: top;\n",
       "    }\n",
       "\n",
       "    .dataframe thead th {\n",
       "        text-align: right;\n",
       "    }\n",
       "</style>\n",
       "<table border=\"1\" class=\"dataframe\">\n",
       "  <thead>\n",
       "    <tr style=\"text-align: right;\">\n",
       "      <th></th>\n",
       "      <th>Case</th>\n",
       "      <th>Activity</th>\n",
       "      <th>Timestamp</th>\n",
       "      <th>Resource</th>\n",
       "    </tr>\n",
       "  </thead>\n",
       "  <tbody>\n",
       "    <tr>\n",
       "      <th>62310</th>\n",
       "      <td>0</td>\n",
       "      <td>Check for completeness</td>\n",
       "      <td>2023-09-29 09:00:00.000</td>\n",
       "      <td>Clerk-000001</td>\n",
       "    </tr>\n",
       "    <tr>\n",
       "      <th>62309</th>\n",
       "      <td>0</td>\n",
       "      <td>New online application received</td>\n",
       "      <td>2023-09-29 09:00:00.000</td>\n",
       "      <td>NaN</td>\n",
       "    </tr>\n",
       "    <tr>\n",
       "      <th>62311</th>\n",
       "      <td>0</td>\n",
       "      <td>Perform checks</td>\n",
       "      <td>2023-09-29 09:08:36.418</td>\n",
       "      <td>Clerk-000003</td>\n",
       "    </tr>\n",
       "    <tr>\n",
       "      <th>62312</th>\n",
       "      <td>0</td>\n",
       "      <td>Make decision</td>\n",
       "      <td>2023-09-29 09:09:43.339</td>\n",
       "      <td>Manager-000001</td>\n",
       "    </tr>\n",
       "    <tr>\n",
       "      <th>62313</th>\n",
       "      <td>0</td>\n",
       "      <td>Notify accept</td>\n",
       "      <td>2023-09-29 09:16:37.243</td>\n",
       "      <td>Manager-000003</td>\n",
       "    </tr>\n",
       "  </tbody>\n",
       "</table>\n",
       "</div>"
      ],
      "text/plain": [
       "      Case                         Activity               Timestamp  \\\n",
       "62310    0           Check for completeness 2023-09-29 09:00:00.000   \n",
       "62309    0  New online application received 2023-09-29 09:00:00.000   \n",
       "62311    0                   Perform checks 2023-09-29 09:08:36.418   \n",
       "62312    0                    Make decision 2023-09-29 09:09:43.339   \n",
       "62313    0                    Notify accept 2023-09-29 09:16:37.243   \n",
       "\n",
       "             Resource  \n",
       "62310    Clerk-000001  \n",
       "62309             NaN  \n",
       "62311    Clerk-000003  \n",
       "62312  Manager-000001  \n",
       "62313  Manager-000003  "
      ]
     },
     "execution_count": 3,
     "metadata": {},
     "output_type": "execute_result"
    }
   ],
   "source": [
    "EL.head()"
   ]
  },
  {
   "cell_type": "code",
   "execution_count": 4,
   "metadata": {},
   "outputs": [
    {
     "data": {
      "text/plain": [
       "array(['Check for completeness', 'New online application received',\n",
       "       'Perform checks', 'Make decision', 'Notify accept', 'Deliver card',\n",
       "       'EVENT 13 END', 'Request info', 'info received', 'notify reject',\n",
       "       'time out', 'review request received'], dtype=object)"
      ]
     },
     "execution_count": 4,
     "metadata": {},
     "output_type": "execute_result"
    }
   ],
   "source": [
    "EL.Activity.unique()"
   ]
  },
  {
   "cell_type": "code",
   "execution_count": 5,
   "metadata": {},
   "outputs": [],
   "source": [
    "from patterns.FormBased import FormBased"
   ]
  },
  {
   "cell_type": "code",
   "execution_count": 12,
   "metadata": {},
   "outputs": [
    {
     "name": "stdout",
     "output_type": "stream",
     "text": [
      "Filtering step 1 . The number of cases in the time interval ( 2023-09-26 09:00:00.000 , 2023-12-26 09:00:00.000 ):  1505\n",
      "Filtering step 2 . The number of cases by declare rule:  34\n",
      "Filtering step 3 . The number of cases containing the defined subseq  ['Make decision', 'Notify accept', 'Deliver card'] :  34\n",
      "Filtering step 4 . The number of cases to be filtered by defined random portion:  24\n"
     ]
    }
   ],
   "source": [
    "EL_polluted = FormBased(EL,\n",
    "                    which = ['Make decision', 'Notify accept', 'Deliver card'], \n",
    "                    ratio= 0.7 , \n",
    "                    tstart = \"2023-09-26 09:00:00.000\",\n",
    "                    tend = \"2023-12-26 09:00:00.000\",\n",
    "                    DecConstraint = \"Chain Response[Make decision, Notify accept] |A.Resource is Manager-000001 |T.Resource is Manager-000003 |\", \n",
    "                    case_id_key = \"Case\",\n",
    "                    timestamp_key = \"Timestamp\")"
   ]
  },
  {
   "cell_type": "code",
   "execution_count": null,
   "metadata": {},
   "outputs": [
    {
     "data": {
      "text/html": [
       "<div>\n",
       "<style scoped>\n",
       "    .dataframe tbody tr th:only-of-type {\n",
       "        vertical-align: middle;\n",
       "    }\n",
       "\n",
       "    .dataframe tbody tr th {\n",
       "        vertical-align: top;\n",
       "    }\n",
       "\n",
       "    .dataframe thead th {\n",
       "        text-align: right;\n",
       "    }\n",
       "</style>\n",
       "<table border=\"1\" class=\"dataframe\">\n",
       "  <thead>\n",
       "    <tr style=\"text-align: right;\">\n",
       "      <th></th>\n",
       "      <th>Case</th>\n",
       "      <th>Activity</th>\n",
       "      <th>Timestamp</th>\n",
       "      <th>Resource</th>\n",
       "      <th>label</th>\n",
       "    </tr>\n",
       "  </thead>\n",
       "  <tbody>\n",
       "    <tr>\n",
       "      <th>3</th>\n",
       "      <td>0</td>\n",
       "      <td>Make decision</td>\n",
       "      <td>2023-09-29 09:09:43.339</td>\n",
       "      <td>Manager-000001</td>\n",
       "      <td>form-based events(2023-09-29 09:09:43.339000)</td>\n",
       "    </tr>\n",
       "    <tr>\n",
       "      <th>4</th>\n",
       "      <td>0</td>\n",
       "      <td>Notify accept</td>\n",
       "      <td>2023-09-29 09:09:43.339</td>\n",
       "      <td>Manager-000003</td>\n",
       "      <td>form-based events(2023-09-29 09:16:37.243000)</td>\n",
       "    </tr>\n",
       "    <tr>\n",
       "      <th>5</th>\n",
       "      <td>0</td>\n",
       "      <td>Deliver card</td>\n",
       "      <td>2023-09-29 09:09:43.339</td>\n",
       "      <td>Manager-000002</td>\n",
       "      <td>form-based events(2023-09-29 09:39:19.386000)</td>\n",
       "    </tr>\n",
       "    <tr>\n",
       "      <th>26</th>\n",
       "      <td>1113</td>\n",
       "      <td>Make decision</td>\n",
       "      <td>2023-12-04 07:15:07.899</td>\n",
       "      <td>Manager-000001</td>\n",
       "      <td>form-based events(2023-12-04 07:15:07.899000)</td>\n",
       "    </tr>\n",
       "    <tr>\n",
       "      <th>27</th>\n",
       "      <td>1113</td>\n",
       "      <td>Notify accept</td>\n",
       "      <td>2023-12-04 07:15:07.899</td>\n",
       "      <td>Manager-000003</td>\n",
       "      <td>form-based events(2023-12-04 08:02:31.947000)</td>\n",
       "    </tr>\n",
       "    <tr>\n",
       "      <th>28</th>\n",
       "      <td>1113</td>\n",
       "      <td>Deliver card</td>\n",
       "      <td>2023-12-04 07:15:07.899</td>\n",
       "      <td>Manager-000002</td>\n",
       "      <td>form-based events(2023-12-04 08:08:22.361000)</td>\n",
       "    </tr>\n",
       "  </tbody>\n",
       "</table>\n",
       "</div>"
      ],
      "text/plain": [
       "    Case       Activity               Timestamp        Resource  \\\n",
       "3      0  Make decision 2023-09-29 09:09:43.339  Manager-000001   \n",
       "4      0  Notify accept 2023-09-29 09:09:43.339  Manager-000003   \n",
       "5      0   Deliver card 2023-09-29 09:09:43.339  Manager-000002   \n",
       "26  1113  Make decision 2023-12-04 07:15:07.899  Manager-000001   \n",
       "27  1113  Notify accept 2023-12-04 07:15:07.899  Manager-000003   \n",
       "28  1113   Deliver card 2023-12-04 07:15:07.899  Manager-000002   \n",
       "\n",
       "                                            label  \n",
       "3   form-based events(2023-09-29 09:09:43.339000)  \n",
       "4   form-based events(2023-09-29 09:16:37.243000)  \n",
       "5   form-based events(2023-09-29 09:39:19.386000)  \n",
       "26  form-based events(2023-12-04 07:15:07.899000)  \n",
       "27  form-based events(2023-12-04 08:02:31.947000)  \n",
       "28  form-based events(2023-12-04 08:08:22.361000)  "
      ]
     },
     "execution_count": 12,
     "metadata": {},
     "output_type": "execute_result"
    }
   ],
   "source": [
    "EL_polluted[EL_polluted['label'] !=  \"\"].head(6)"
   ]
  },
  {
   "cell_type": "code",
   "execution_count": null,
   "metadata": {},
   "outputs": [],
   "source": [
    "from patterns.CollateralEvent import CollateralEvent"
   ]
  },
  {
   "cell_type": "code",
   "execution_count": null,
   "metadata": {},
   "outputs": [
    {
     "name": "stdout",
     "output_type": "stream",
     "text": [
      "Filtering step 1 . The number of cases in the time interval ( 2023-09-26 09:00:00.000 , 2023-12-26 09:00:00.000 ):  1505\n",
      "Filtering step 2 . The number of cases by declare rule:  34\n",
      "Filtering step 3 . The number of cases to be filtered by defined random portion:  24\n"
     ]
    }
   ],
   "source": [
    "EL_polluted = CollateralEvent(EL, \n",
    "                    target_collats = \"[Activity:'Make decision'>>('Make decision_signed1', 'Make decision_signed2')]\",\n",
    "                    ratio= 0.7 , \n",
    "                    timep = 1,\n",
    "                    unit = 'sec',\n",
    "                    tstart = \"2023-09-26 09:00:00.000\",\n",
    "                    tend = \"2023-12-26 09:00:00.000\",\n",
    "                    DecConstraint = \"Chain Response[Make decision, Notify accept] |A.Resource is Manager-000001 |T.Resource is Manager-000003 |\", \n",
    "                    case_id_key = \"Case\",\n",
    "                    timestamp_key = \"Timestamp\",\n",
    "                    activity_key = \"Activity\")"
   ]
  },
  {
   "cell_type": "code",
   "execution_count": null,
   "metadata": {},
   "outputs": [
    {
     "data": {
      "text/html": [
       "<div>\n",
       "<style scoped>\n",
       "    .dataframe tbody tr th:only-of-type {\n",
       "        vertical-align: middle;\n",
       "    }\n",
       "\n",
       "    .dataframe tbody tr th {\n",
       "        vertical-align: top;\n",
       "    }\n",
       "\n",
       "    .dataframe thead th {\n",
       "        text-align: right;\n",
       "    }\n",
       "</style>\n",
       "<table border=\"1\" class=\"dataframe\">\n",
       "  <thead>\n",
       "    <tr style=\"text-align: right;\">\n",
       "      <th></th>\n",
       "      <th>Case</th>\n",
       "      <th>Activity</th>\n",
       "      <th>Timestamp</th>\n",
       "      <th>Resource</th>\n",
       "      <th>label</th>\n",
       "    </tr>\n",
       "  </thead>\n",
       "  <tbody>\n",
       "    <tr>\n",
       "      <th>4</th>\n",
       "      <td>0</td>\n",
       "      <td>Make decision_signed1</td>\n",
       "      <td>2023-09-29 09:09:43.439</td>\n",
       "      <td>Manager-000001</td>\n",
       "      <td>collateral events(Make decision)</td>\n",
       "    </tr>\n",
       "    <tr>\n",
       "      <th>5</th>\n",
       "      <td>0</td>\n",
       "      <td>Make decision_signed2</td>\n",
       "      <td>2023-09-29 09:09:44.039</td>\n",
       "      <td>Manager-000001</td>\n",
       "      <td>collateral events(Make decision)</td>\n",
       "    </tr>\n",
       "    <tr>\n",
       "      <th>13</th>\n",
       "      <td>1085</td>\n",
       "      <td>Make decision_signed1</td>\n",
       "      <td>2023-12-01 13:15:18.496</td>\n",
       "      <td>Manager-000001</td>\n",
       "      <td>collateral events(Make decision)</td>\n",
       "    </tr>\n",
       "    <tr>\n",
       "      <th>14</th>\n",
       "      <td>1085</td>\n",
       "      <td>Make decision_signed2</td>\n",
       "      <td>2023-12-01 13:15:19.196</td>\n",
       "      <td>Manager-000001</td>\n",
       "      <td>collateral events(Make decision)</td>\n",
       "    </tr>\n",
       "    <tr>\n",
       "      <th>38</th>\n",
       "      <td>1163</td>\n",
       "      <td>Make decision_signed1</td>\n",
       "      <td>2023-12-06 03:27:38.606</td>\n",
       "      <td>Manager-000001</td>\n",
       "      <td>collateral events(Make decision)</td>\n",
       "    </tr>\n",
       "    <tr>\n",
       "      <th>39</th>\n",
       "      <td>1163</td>\n",
       "      <td>Make decision_signed2</td>\n",
       "      <td>2023-12-06 03:27:39.606</td>\n",
       "      <td>Manager-000001</td>\n",
       "      <td>collateral events(Make decision)</td>\n",
       "    </tr>\n",
       "  </tbody>\n",
       "</table>\n",
       "</div>"
      ],
      "text/plain": [
       "    Case               Activity               Timestamp        Resource  \\\n",
       "4      0  Make decision_signed1 2023-09-29 09:09:43.439  Manager-000001   \n",
       "5      0  Make decision_signed2 2023-09-29 09:09:44.039  Manager-000001   \n",
       "13  1085  Make decision_signed1 2023-12-01 13:15:18.496  Manager-000001   \n",
       "14  1085  Make decision_signed2 2023-12-01 13:15:19.196  Manager-000001   \n",
       "38  1163  Make decision_signed1 2023-12-06 03:27:38.606  Manager-000001   \n",
       "39  1163  Make decision_signed2 2023-12-06 03:27:39.606  Manager-000001   \n",
       "\n",
       "                               label  \n",
       "4   collateral events(Make decision)  \n",
       "5   collateral events(Make decision)  \n",
       "13  collateral events(Make decision)  \n",
       "14  collateral events(Make decision)  \n",
       "38  collateral events(Make decision)  \n",
       "39  collateral events(Make decision)  "
      ]
     },
     "execution_count": 8,
     "metadata": {},
     "output_type": "execute_result"
    }
   ],
   "source": [
    "EL_polluted[EL_polluted['label'] !=  \"\"].head(6)"
   ]
  },
  {
   "cell_type": "code",
   "execution_count": null,
   "metadata": {},
   "outputs": [],
   "source": [
    "from patterns.ScatteredCase import ScatteredCase"
   ]
  },
  {
   "cell_type": "code",
   "execution_count": null,
   "metadata": {},
   "outputs": [],
   "source": [
    "ELsys = generate_system(EL, nsys = 10)\n",
    "\n",
    "EL_polluted = ScatteredCase(ELsys,\n",
    "                            log_name= 'EL_scattered2',\n",
    "                            syslist = \"[System:('System2', 'System3')]\",\n",
    "                            tstart = \"2023-09-26 09:00:00.000\",\n",
    "                            tend = \"2023-12-26 09:00:00.000\",\n",
    "                            case_id_key = \"Case\",\n",
    "                            timestamp_key = \"Timestamp\")"
   ]
  },
  {
   "cell_type": "code",
   "execution_count": null,
   "metadata": {},
   "outputs": [
    {
     "data": {
      "text/plain": [
       "\"Scattered cases(['Check for completeness', 'Make decision', 'Notify accept', 'EVENT 13 END'])\""
      ]
     },
     "execution_count": 14,
     "metadata": {},
     "output_type": "execute_result"
    }
   ],
   "source": [
    "EL_polluted[EL_polluted['label'] !=  \"\"].head(1)['label'][9454]"
   ]
  },
  {
   "cell_type": "code",
   "execution_count": 7,
   "metadata": {},
   "outputs": [],
   "source": [
    "from patterns.PollutedLabel import PollutedLabel"
   ]
  },
  {
   "cell_type": "code",
   "execution_count": 8,
   "metadata": {},
   "outputs": [
    {
     "name": "stdout",
     "output_type": "stream",
     "text": [
      "Filtering step 1 . The number of cases in the time interval ( 2023-09-26 09:00:00.000 , 2023-12-26 09:00:00.000 ):  1505\n",
      "Filtering step 2 . The number of cases by declare rule:  34\n",
      "Filtering step 3 . The number of cases to be filtered by defined random portion:  24\n"
     ]
    }
   ],
   "source": [
    "# Polluted Label\n",
    "EL_polluted = PollutedLabel(EL, \n",
    "                            target = \"[Activity:('Perform checks', 'Make decision')]\",  # TBD: also numeric range\n",
    "                            action = \"[Activity]_[0-9:{2}][a-zA-Z:{5}]_[Timestamp*(%Y%m%d %H%M%S%f)]\",\n",
    "                            ratio = 0.7,\n",
    "                            tstart = \"2023-09-26 09:00:00.000\",\n",
    "                            tend = \"2023-12-26 09:00:00.000\",\n",
    "                            DecConstraint = \"Chain Response[Make decision, Notify accept] |A.Resource is Manager-000001 |T.Resource is Manager-000003 |\", \n",
    "                            case_id_key = \"Case\",\n",
    "                            timestamp_key = \"Timestamp\")"
   ]
  },
  {
   "cell_type": "code",
   "execution_count": 9,
   "metadata": {},
   "outputs": [
    {
     "data": {
      "text/html": [
       "<div>\n",
       "<style scoped>\n",
       "    .dataframe tbody tr th:only-of-type {\n",
       "        vertical-align: middle;\n",
       "    }\n",
       "\n",
       "    .dataframe tbody tr th {\n",
       "        vertical-align: top;\n",
       "    }\n",
       "\n",
       "    .dataframe thead th {\n",
       "        text-align: right;\n",
       "    }\n",
       "</style>\n",
       "<table border=\"1\" class=\"dataframe\">\n",
       "  <thead>\n",
       "    <tr style=\"text-align: right;\">\n",
       "      <th></th>\n",
       "      <th>Case</th>\n",
       "      <th>Activity</th>\n",
       "      <th>Timestamp</th>\n",
       "      <th>Resource</th>\n",
       "      <th>label</th>\n",
       "    </tr>\n",
       "  </thead>\n",
       "  <tbody>\n",
       "    <tr>\n",
       "      <th>2</th>\n",
       "      <td>0</td>\n",
       "      <td>Perform checks_11WSVrt_20230929 090836418000</td>\n",
       "      <td>2023-09-29 09:08:36.418</td>\n",
       "      <td>Clerk-000003</td>\n",
       "      <td>polluted Label(Activity:'Perform checks')</td>\n",
       "    </tr>\n",
       "    <tr>\n",
       "      <th>3</th>\n",
       "      <td>0</td>\n",
       "      <td>Make decision_44coYig_20230929 090943339000</td>\n",
       "      <td>2023-09-29 09:09:43.339</td>\n",
       "      <td>Manager-000001</td>\n",
       "      <td>polluted Label(Activity:'Make decision')</td>\n",
       "    </tr>\n",
       "    <tr>\n",
       "      <th>39</th>\n",
       "      <td>1203</td>\n",
       "      <td>Perform checks_20LJtij_20231208 041050406000</td>\n",
       "      <td>2023-12-08 04:10:50.406</td>\n",
       "      <td>Clerk-000006</td>\n",
       "      <td>polluted Label(Activity:'Perform checks')</td>\n",
       "    </tr>\n",
       "    <tr>\n",
       "      <th>40</th>\n",
       "      <td>1203</td>\n",
       "      <td>Make decision_79amUPL_20231208 042426460000</td>\n",
       "      <td>2023-12-08 04:24:26.460</td>\n",
       "      <td>Manager-000002</td>\n",
       "      <td>polluted Label(Activity:'Make decision')</td>\n",
       "    </tr>\n",
       "    <tr>\n",
       "      <th>53</th>\n",
       "      <td>1203</td>\n",
       "      <td>Perform checks_27FUDto_20231208 061151533000</td>\n",
       "      <td>2023-12-08 06:11:51.533</td>\n",
       "      <td>Clerk-000002</td>\n",
       "      <td>polluted Label(Activity:'Perform checks')</td>\n",
       "    </tr>\n",
       "    <tr>\n",
       "      <th>54</th>\n",
       "      <td>1203</td>\n",
       "      <td>Make decision_78NMNYV_20231208 061902545000</td>\n",
       "      <td>2023-12-08 06:19:02.545</td>\n",
       "      <td>Manager-000001</td>\n",
       "      <td>polluted Label(Activity:'Make decision')</td>\n",
       "    </tr>\n",
       "  </tbody>\n",
       "</table>\n",
       "</div>"
      ],
      "text/plain": [
       "    Case                                      Activity  \\\n",
       "2      0  Perform checks_11WSVrt_20230929 090836418000   \n",
       "3      0   Make decision_44coYig_20230929 090943339000   \n",
       "39  1203  Perform checks_20LJtij_20231208 041050406000   \n",
       "40  1203   Make decision_79amUPL_20231208 042426460000   \n",
       "53  1203  Perform checks_27FUDto_20231208 061151533000   \n",
       "54  1203   Make decision_78NMNYV_20231208 061902545000   \n",
       "\n",
       "                 Timestamp        Resource  \\\n",
       "2  2023-09-29 09:08:36.418    Clerk-000003   \n",
       "3  2023-09-29 09:09:43.339  Manager-000001   \n",
       "39 2023-12-08 04:10:50.406    Clerk-000006   \n",
       "40 2023-12-08 04:24:26.460  Manager-000002   \n",
       "53 2023-12-08 06:11:51.533    Clerk-000002   \n",
       "54 2023-12-08 06:19:02.545  Manager-000001   \n",
       "\n",
       "                                        label  \n",
       "2   polluted Label(Activity:'Perform checks')  \n",
       "3    polluted Label(Activity:'Make decision')  \n",
       "39  polluted Label(Activity:'Perform checks')  \n",
       "40   polluted Label(Activity:'Make decision')  \n",
       "53  polluted Label(Activity:'Perform checks')  \n",
       "54   polluted Label(Activity:'Make decision')  "
      ]
     },
     "execution_count": 9,
     "metadata": {},
     "output_type": "execute_result"
    }
   ],
   "source": [
    "EL_polluted[EL_polluted['label'] !=  \"\"].head(6)"
   ]
  },
  {
   "cell_type": "code",
   "execution_count": null,
   "metadata": {},
   "outputs": [],
   "source": []
  },
  {
   "cell_type": "code",
   "execution_count": 10,
   "metadata": {},
   "outputs": [],
   "source": [
    "from patterns.ScatteredEvent import ScatteredEvent"
   ]
  },
  {
   "cell_type": "code",
   "execution_count": 11,
   "metadata": {},
   "outputs": [
    {
     "name": "stdout",
     "output_type": "stream",
     "text": [
      "Filtering step 1 . The number of cases in the time interval ( 2023-09-26 09:00:00.000 , 2023-12-26 09:00:00.000 ):  1505\n",
      "Filtering step 2 . The number of cases by declare rule:  34\n",
      "Filtering step 3 . The number of cases to be filtered by defined random portion:  24\n"
     ]
    },
    {
     "ename": "TypeError",
     "evalue": "bad operand type for unary +: 'str'",
     "output_type": "error",
     "traceback": [
      "\u001b[1;31m---------------------------------------------------------------------------\u001b[0m",
      "\u001b[1;31mTypeError\u001b[0m                                 Traceback (most recent call last)",
      "Cell \u001b[1;32mIn[11], line 2\u001b[0m\n\u001b[0;32m      1\u001b[0m \u001b[38;5;66;03m# Scattered Events\u001b[39;00m\n\u001b[1;32m----> 2\u001b[0m EL_polluted, temp \u001b[38;5;241m=\u001b[39m \u001b[43mScatteredEvent\u001b[49m\u001b[43m(\u001b[49m\u001b[43mEL\u001b[49m\u001b[43m,\u001b[49m\u001b[43m \u001b[49m\n\u001b[0;32m      3\u001b[0m \u001b[43m                    \u001b[49m\u001b[43mtarget\u001b[49m\u001b[43m \u001b[49m\u001b[38;5;241;43m=\u001b[39;49m\u001b[43m \u001b[49m\u001b[38;5;124;43m\"\u001b[39;49m\u001b[38;5;124;43m[Activity:\u001b[39;49m\u001b[38;5;124;43m'\u001b[39;49m\u001b[38;5;124;43mMake decision\u001b[39;49m\u001b[38;5;124;43m'\u001b[39;49m\u001b[38;5;124;43m>>(\u001b[39;49m\u001b[38;5;124;43m'\u001b[39;49m\u001b[38;5;124;43mMake revision1\u001b[39;49m\u001b[38;5;124;43m'\u001b[39;49m\u001b[38;5;124;43m, \u001b[39;49m\u001b[38;5;124;43m'\u001b[39;49m\u001b[38;5;124;43mMake revision2\u001b[39;49m\u001b[38;5;124;43m'\u001b[39;49m\u001b[38;5;124;43m)]\u001b[39;49m\u001b[38;5;124;43m\"\u001b[39;49m\u001b[43m,\u001b[49m\u001b[43m                                                   \u001b[49m\u001b[38;5;66;43;03m# \"[Activity:('Make decision', 'Notify accept', 'Deliver card')]\",\u001b[39;49;00m\n\u001b[0;32m      4\u001b[0m \u001b[43m                    \u001b[49m\u001b[43maction\u001b[49m\u001b[43m \u001b[49m\u001b[38;5;241;43m=\u001b[39;49m\u001b[43m \u001b[49m\u001b[38;5;124;43m\"\u001b[39;49m\u001b[38;5;124;43m[Resource]_[0-9:\u001b[39;49m\u001b[38;5;132;43;01m{2}\u001b[39;49;00m\u001b[38;5;124;43m][a-zA-Z:\u001b[39;49m\u001b[38;5;132;43;01m{5}\u001b[39;49;00m\u001b[38;5;124;43m]_[Timestamp*(\u001b[39;49m\u001b[38;5;124;43m%\u001b[39;49m\u001b[38;5;124;43mY\u001b[39;49m\u001b[38;5;124;43m%\u001b[39;49m\u001b[38;5;124;43mm\u001b[39;49m\u001b[38;5;132;43;01m%d\u001b[39;49;00m\u001b[38;5;124;43m \u001b[39;49m\u001b[38;5;124;43m%\u001b[39;49m\u001b[38;5;124;43mH\u001b[39;49m\u001b[38;5;124;43m%\u001b[39;49m\u001b[38;5;124;43mM\u001b[39;49m\u001b[38;5;124;43m%\u001b[39;49m\u001b[38;5;124;43mS\u001b[39;49m\u001b[38;5;132;43;01m%f\u001b[39;49;00m\u001b[38;5;124;43m)]\u001b[39;49m\u001b[38;5;124;43m\"\u001b[39;49m\u001b[43m,\u001b[49m\n\u001b[0;32m      5\u001b[0m \u001b[43m                    \u001b[49m\u001b[43mloc\u001b[49m\u001b[43m \u001b[49m\u001b[38;5;241;43m=\u001b[39;49m\u001b[43m \u001b[49m\u001b[38;5;124;43m\"\u001b[39;49m\u001b[38;5;124;43m[Description:idx(-1)]\u001b[39;49m\u001b[38;5;124;43m\"\u001b[39;49m\u001b[43m,\u001b[49m\n\u001b[0;32m      6\u001b[0m \u001b[43m                    \u001b[49m\u001b[43mDel\u001b[49m\u001b[43m \u001b[49m\u001b[38;5;241;43m=\u001b[39;49m\u001b[43m \u001b[49m\u001b[38;5;28;43;01mTrue\u001b[39;49;00m\u001b[43m,\u001b[49m\u001b[43m \u001b[49m\n\u001b[0;32m      7\u001b[0m \u001b[43m                    \u001b[49m\u001b[43mratio\u001b[49m\u001b[43m \u001b[49m\u001b[38;5;241;43m=\u001b[39;49m\u001b[43m \u001b[49m\u001b[38;5;241;43m0.7\u001b[39;49m\u001b[43m,\u001b[49m\u001b[43m \u001b[49m\n\u001b[0;32m      8\u001b[0m \u001b[43m                    \u001b[49m\u001b[43mtstart\u001b[49m\u001b[43m \u001b[49m\u001b[38;5;241;43m=\u001b[39;49m\u001b[43m \u001b[49m\u001b[38;5;124;43m\"\u001b[39;49m\u001b[38;5;124;43m2023-09-26 09:00:00.000\u001b[39;49m\u001b[38;5;124;43m\"\u001b[39;49m\u001b[43m,\u001b[49m\n\u001b[0;32m      9\u001b[0m \u001b[43m                    \u001b[49m\u001b[43mtend\u001b[49m\u001b[43m \u001b[49m\u001b[38;5;241;43m=\u001b[39;49m\u001b[43m \u001b[49m\u001b[38;5;124;43m\"\u001b[39;49m\u001b[38;5;124;43m2023-12-26 09:00:00.000\u001b[39;49m\u001b[38;5;124;43m\"\u001b[39;49m\u001b[43m,\u001b[49m\n\u001b[0;32m     10\u001b[0m \u001b[43m                    \u001b[49m\u001b[43mDecConstraint\u001b[49m\u001b[43m \u001b[49m\u001b[38;5;241;43m=\u001b[39;49m\u001b[43m \u001b[49m\u001b[38;5;124;43m\"\u001b[39;49m\u001b[38;5;124;43mChain Response[Make decision, Notify accept] |A.Resource is Manager-000001 |T.Resource is Manager-000003 |\u001b[39;49m\u001b[38;5;124;43m\"\u001b[39;49m\u001b[43m,\u001b[49m\u001b[43m \u001b[49m\n\u001b[0;32m     11\u001b[0m \u001b[43m                    \u001b[49m\u001b[43mcase_id_key\u001b[49m\u001b[43m \u001b[49m\u001b[38;5;241;43m=\u001b[39;49m\u001b[43m \u001b[49m\u001b[38;5;124;43m\"\u001b[39;49m\u001b[38;5;124;43mCase\u001b[39;49m\u001b[38;5;124;43m\"\u001b[39;49m\u001b[43m,\u001b[49m\n\u001b[0;32m     12\u001b[0m \u001b[43m                    \u001b[49m\u001b[43mactivity_key\u001b[49m\u001b[43m \u001b[49m\u001b[38;5;241;43m=\u001b[39;49m\u001b[43m \u001b[49m\u001b[38;5;124;43m\"\u001b[39;49m\u001b[38;5;124;43mActivity\u001b[39;49m\u001b[38;5;124;43m\"\u001b[39;49m\u001b[43m,\u001b[49m\n\u001b[0;32m     13\u001b[0m \u001b[43m                    \u001b[49m\u001b[43mtimestamp_key\u001b[49m\u001b[43m \u001b[49m\u001b[38;5;241;43m=\u001b[39;49m\u001b[43m \u001b[49m\u001b[38;5;124;43m\"\u001b[39;49m\u001b[38;5;124;43mTimestamp\u001b[39;49m\u001b[38;5;124;43m\"\u001b[39;49m\u001b[43m)\u001b[49m\n",
      "File \u001b[1;32mc:\\Users\\ADMIN\\Desktop\\FLAWD\\patterns\\ScatteredEvent.py:199\u001b[0m, in \u001b[0;36mScatteredEvent\u001b[1;34m(data, target, action, loc, Del, ratio, tstart, tend, DecConstraint, case_id_key, activity_key, timestamp_key)\u001b[0m\n\u001b[0;32m    196\u001b[0m         \u001b[38;5;28;01melse\u001b[39;00m:\n\u001b[0;32m    197\u001b[0m             result\u001b[38;5;241m.\u001b[39mloc[index, name] \u001b[38;5;241m=\u001b[39m row_str\n\u001b[1;32m--> 199\u001b[0m     result\u001b[38;5;241m.\u001b[39mloc[index, \u001b[38;5;124m'\u001b[39m\u001b[38;5;124mlabel\u001b[39m\u001b[38;5;124m'\u001b[39m] \u001b[38;5;241m=\u001b[39m \u001b[38;5;124m\"\u001b[39m\u001b[38;5;124mScattered Events(Scattered attr = \u001b[39m\u001b[38;5;124m\"\u001b[39m \u001b[38;5;241m+\u001b[39m \u001b[38;5;241;43m+\u001b[39;49m\u001b[43m \u001b[49m\u001b[38;5;28;43mstr\u001b[39;49m\u001b[43m(\u001b[49m\u001b[43mform_attr\u001b[49m\u001b[43m)\u001b[49m \u001b[38;5;241m+\u001b[39m \u001b[38;5;124m\"\u001b[39m\u001b[38;5;124m)\u001b[39m\u001b[38;5;124m\"\u001b[39m\n\u001b[0;32m    201\u001b[0m \u001b[38;5;28;01mif\u001b[39;00m (Del \u001b[38;5;241m==\u001b[39m \u001b[38;5;28;01mTrue\u001b[39;00m) \u001b[38;5;129;01mand\u001b[39;00m (idx_move \u001b[38;5;129;01mis\u001b[39;00m \u001b[38;5;129;01mnot\u001b[39;00m \u001b[38;5;28;01mNone\u001b[39;00m):\n\u001b[0;32m    202\u001b[0m     \u001b[38;5;28;01mif\u001b[39;00m \u001b[38;5;28mmin\u001b[39m(loc) \u001b[38;5;241m+\u001b[39m idx_move \u001b[38;5;241m>\u001b[39m\u001b[38;5;241m=\u001b[39m start_idx:\n",
      "\u001b[1;31mTypeError\u001b[0m: bad operand type for unary +: 'str'"
     ]
    }
   ],
   "source": [
    "\n",
    "# Scattered Events\n",
    "EL_polluted, temp = ScatteredEvent(EL, \n",
    "                    target = \"[Activity:'Make decision'>>('Make revision1', 'Make revision2')]\",                                                   # \"[Activity:('Make decision', 'Notify accept', 'Deliver card')]\",\n",
    "                    action = \"[Resource]_[0-9:{2}][a-zA-Z:{5}]_[Timestamp*(%Y%m%d %H%M%S%f)]\",\n",
    "                    loc = \"[Description:idx(-1)]\",\n",
    "                    Del = True, \n",
    "                    ratio = 0.7, \n",
    "                    tstart = \"2023-09-26 09:00:00.000\",\n",
    "                    tend = \"2023-12-26 09:00:00.000\",\n",
    "                    DecConstraint = \"Chain Response[Make decision, Notify accept] |A.Resource is Manager-000001 |T.Resource is Manager-000003 |\", \n",
    "                    case_id_key = \"Case\",\n",
    "                    activity_key = \"Activity\",\n",
    "                    timestamp_key = \"Timestamp\")"
   ]
  },
  {
   "cell_type": "code",
   "execution_count": null,
   "metadata": {},
   "outputs": [
    {
     "data": {
      "text/html": [
       "<div>\n",
       "<style scoped>\n",
       "    .dataframe tbody tr th:only-of-type {\n",
       "        vertical-align: middle;\n",
       "    }\n",
       "\n",
       "    .dataframe tbody tr th {\n",
       "        vertical-align: top;\n",
       "    }\n",
       "\n",
       "    .dataframe thead th {\n",
       "        text-align: right;\n",
       "    }\n",
       "</style>\n",
       "<table border=\"1\" class=\"dataframe\">\n",
       "  <thead>\n",
       "    <tr style=\"text-align: right;\">\n",
       "      <th></th>\n",
       "      <th>Case</th>\n",
       "      <th>Activity</th>\n",
       "      <th>Timestamp</th>\n",
       "      <th>Resource</th>\n",
       "      <th>Description</th>\n",
       "      <th>label</th>\n",
       "    </tr>\n",
       "  </thead>\n",
       "  <tbody>\n",
       "    <tr>\n",
       "      <th>30</th>\n",
       "      <td>1113</td>\n",
       "      <td>Make decision</td>\n",
       "      <td>2023-12-04 07:15:07.899</td>\n",
       "      <td>Manager-000001</td>\n",
       "      <td>[Clerk-000003_79wkqEd_20231204 073055915000, M...</td>\n",
       "      <td>Scattered Events( Removed activities:['Make re...</td>\n",
       "    </tr>\n",
       "    <tr>\n",
       "      <th>37</th>\n",
       "      <td>1163</td>\n",
       "      <td>Make decision</td>\n",
       "      <td>2023-12-06 03:27:38.206</td>\n",
       "      <td>Manager-000001</td>\n",
       "      <td>[Manager-000001_48PVuWS_20231206 032815018666,...</td>\n",
       "      <td>Scattered Events( Removed activities:['Make re...</td>\n",
       "    </tr>\n",
       "    <tr>\n",
       "      <th>44</th>\n",
       "      <td>1203</td>\n",
       "      <td>Make decision</td>\n",
       "      <td>2023-12-08 04:24:26.460</td>\n",
       "      <td>Manager-000002</td>\n",
       "      <td>[Clerk-000003_01GBvEg_20231208 043454335000, n...</td>\n",
       "      <td>Scattered Events( Removed activities:['Make re...</td>\n",
       "    </tr>\n",
       "    <tr>\n",
       "      <th>107</th>\n",
       "      <td>1283</td>\n",
       "      <td>Make decision</td>\n",
       "      <td>2023-12-13 13:08:36.949</td>\n",
       "      <td>Manager-000001</td>\n",
       "      <td>[Manager-000001_87hkvKx_20231213 131242134333,...</td>\n",
       "      <td>Scattered Events( Removed activities:['Make re...</td>\n",
       "    </tr>\n",
       "    <tr>\n",
       "      <th>114</th>\n",
       "      <td>1388</td>\n",
       "      <td>Make decision</td>\n",
       "      <td>2023-12-19 10:32:46.574</td>\n",
       "      <td>Manager-000005</td>\n",
       "      <td>[nan_19MLcNs_20231219 103309015000, nan_15JhiU...</td>\n",
       "      <td>Scattered Events( Removed activities:['Make re...</td>\n",
       "    </tr>\n",
       "    <tr>\n",
       "      <th>126</th>\n",
       "      <td>1395</td>\n",
       "      <td>Make decision</td>\n",
       "      <td>2023-12-19 14:46:39.642</td>\n",
       "      <td>Manager-000001</td>\n",
       "      <td>[Manager-000003_39RLxbo_20231219 144834820333,...</td>\n",
       "      <td>Scattered Events( Removed activities:['Make re...</td>\n",
       "    </tr>\n",
       "  </tbody>\n",
       "</table>\n",
       "</div>"
      ],
      "text/plain": [
       "     Case       Activity               Timestamp        Resource  \\\n",
       "30   1113  Make decision 2023-12-04 07:15:07.899  Manager-000001   \n",
       "37   1163  Make decision 2023-12-06 03:27:38.206  Manager-000001   \n",
       "44   1203  Make decision 2023-12-08 04:24:26.460  Manager-000002   \n",
       "107  1283  Make decision 2023-12-13 13:08:36.949  Manager-000001   \n",
       "114  1388  Make decision 2023-12-19 10:32:46.574  Manager-000005   \n",
       "126  1395  Make decision 2023-12-19 14:46:39.642  Manager-000001   \n",
       "\n",
       "                                           Description  \\\n",
       "30   [Clerk-000003_79wkqEd_20231204 073055915000, M...   \n",
       "37   [Manager-000001_48PVuWS_20231206 032815018666,...   \n",
       "44   [Clerk-000003_01GBvEg_20231208 043454335000, n...   \n",
       "107  [Manager-000001_87hkvKx_20231213 131242134333,...   \n",
       "114  [nan_19MLcNs_20231219 103309015000, nan_15JhiU...   \n",
       "126  [Manager-000003_39RLxbo_20231219 144834820333,...   \n",
       "\n",
       "                                                 label  \n",
       "30   Scattered Events( Removed activities:['Make re...  \n",
       "37   Scattered Events( Removed activities:['Make re...  \n",
       "44   Scattered Events( Removed activities:['Make re...  \n",
       "107  Scattered Events( Removed activities:['Make re...  \n",
       "114  Scattered Events( Removed activities:['Make re...  \n",
       "126  Scattered Events( Removed activities:['Make re...  "
      ]
     },
     "execution_count": 23,
     "metadata": {},
     "output_type": "execute_result"
    }
   ],
   "source": [
    "EL_polluted[EL_polluted['label'] !=  \"\"].head(6)"
   ]
  },
  {
   "cell_type": "code",
   "execution_count": 24,
   "metadata": {},
   "outputs": [
    {
     "data": {
      "text/plain": [
       "\"Scattered Events( Removed activities:['Make revision1', 'Make revision2'], Concatenated attr = ['Resource', 'Timestamp'])\""
      ]
     },
     "execution_count": 24,
     "metadata": {},
     "output_type": "execute_result"
    }
   ],
   "source": [
    "EL_polluted.loc[30,'label']"
   ]
  },
  {
   "cell_type": "code",
   "execution_count": 14,
   "metadata": {},
   "outputs": [],
   "source": [
    "from patterns.SynonymousLabel import SynonymousLabel"
   ]
  },
  {
   "cell_type": "code",
   "execution_count": 15,
   "metadata": {},
   "outputs": [
    {
     "name": "stdout",
     "output_type": "stream",
     "text": [
      "Filtering step 1 . The number of cases in the time interval ( 2023-09-26 09:00:00.000 , 2023-12-26 09:00:00.000 ):  1505\n",
      "Filtering step 2 . The number of cases by declare rule:  34\n",
      "Filtering step 3 . The number of cases to be filtered by defined random portion:  24\n"
     ]
    }
   ],
   "source": [
    "EL_polluted = SynonymousLabel(EL, \n",
    "                            target = \"[Activity:('Perform checks')]\",\n",
    "                            syns = [\"Perform checks - Dep1\",  \"Perform checks - Dep2\", \"Perform checks - Dep3\"],\n",
    "                            prob = [0.1, 0.6, 0.3],\n",
    "                            ratio = 0.7,\n",
    "                            tstart = \"2023-09-26 09:00:00.000\",\n",
    "                            tend = \"2023-12-26 09:00:00.000\",\n",
    "                            DecConstraint = \"Chain Response[Make decision, Notify accept] |A.Resource is Manager-000001 |T.Resource is Manager-000003 |\", \n",
    "                            case_id_key = \"Case\",\n",
    "                            timestamp_key = \"Timestamp\")\n"
   ]
  },
  {
   "cell_type": "code",
   "execution_count": 16,
   "metadata": {},
   "outputs": [
    {
     "data": {
      "text/html": [
       "<div>\n",
       "<style scoped>\n",
       "    .dataframe tbody tr th:only-of-type {\n",
       "        vertical-align: middle;\n",
       "    }\n",
       "\n",
       "    .dataframe tbody tr th {\n",
       "        vertical-align: top;\n",
       "    }\n",
       "\n",
       "    .dataframe thead th {\n",
       "        text-align: right;\n",
       "    }\n",
       "</style>\n",
       "<table border=\"1\" class=\"dataframe\">\n",
       "  <thead>\n",
       "    <tr style=\"text-align: right;\">\n",
       "      <th></th>\n",
       "      <th>Case</th>\n",
       "      <th>Activity</th>\n",
       "      <th>Timestamp</th>\n",
       "      <th>Resource</th>\n",
       "      <th>label</th>\n",
       "    </tr>\n",
       "  </thead>\n",
       "  <tbody>\n",
       "    <tr>\n",
       "      <th>62311</th>\n",
       "      <td>0</td>\n",
       "      <td>Perform checks - Dep2</td>\n",
       "      <td>2023-09-29 09:08:36.418</td>\n",
       "      <td>Clerk-000003</td>\n",
       "      <td>synonymous label('Perform checks')</td>\n",
       "    </tr>\n",
       "    <tr>\n",
       "      <th>58807</th>\n",
       "      <td>97</td>\n",
       "      <td>Perform checks - Dep2</td>\n",
       "      <td>2023-10-04 14:33:28.710</td>\n",
       "      <td>Clerk-000005</td>\n",
       "      <td>synonymous label('Perform checks')</td>\n",
       "    </tr>\n",
       "    <tr>\n",
       "      <th>61807</th>\n",
       "      <td>154</td>\n",
       "      <td>Perform checks - Dep2</td>\n",
       "      <td>2023-10-09 03:56:24.704</td>\n",
       "      <td>Clerk-000002</td>\n",
       "      <td>synonymous label('Perform checks')</td>\n",
       "    </tr>\n",
       "    <tr>\n",
       "      <th>31073</th>\n",
       "      <td>283</td>\n",
       "      <td>Perform checks - Dep2</td>\n",
       "      <td>2023-10-13 14:46:37.679</td>\n",
       "      <td>Clerk-000001</td>\n",
       "      <td>synonymous label('Perform checks')</td>\n",
       "    </tr>\n",
       "    <tr>\n",
       "      <th>31084</th>\n",
       "      <td>283</td>\n",
       "      <td>Perform checks - Dep1</td>\n",
       "      <td>2023-10-13 16:24:12.376</td>\n",
       "      <td>Clerk-000005</td>\n",
       "      <td>synonymous label('Perform checks')</td>\n",
       "    </tr>\n",
       "    <tr>\n",
       "      <th>23902</th>\n",
       "      <td>510</td>\n",
       "      <td>Perform checks - Dep3</td>\n",
       "      <td>2023-10-30 01:22:06.896</td>\n",
       "      <td>Clerk-000002</td>\n",
       "      <td>synonymous label('Perform checks')</td>\n",
       "    </tr>\n",
       "    <tr>\n",
       "      <th>10406</th>\n",
       "      <td>556</td>\n",
       "      <td>Perform checks - Dep2</td>\n",
       "      <td>2023-11-01 01:51:12.379</td>\n",
       "      <td>Clerk-000005</td>\n",
       "      <td>synonymous label('Perform checks')</td>\n",
       "    </tr>\n",
       "    <tr>\n",
       "      <th>37400</th>\n",
       "      <td>572</td>\n",
       "      <td>Perform checks - Dep1</td>\n",
       "      <td>2023-11-01 19:54:51.647</td>\n",
       "      <td>Clerk-000003</td>\n",
       "      <td>synonymous label('Perform checks')</td>\n",
       "    </tr>\n",
       "    <tr>\n",
       "      <th>31715</th>\n",
       "      <td>602</td>\n",
       "      <td>Perform checks - Dep2</td>\n",
       "      <td>2023-11-02 17:51:56.297</td>\n",
       "      <td>Clerk-000004</td>\n",
       "      <td>synonymous label('Perform checks')</td>\n",
       "    </tr>\n",
       "    <tr>\n",
       "      <th>61640</th>\n",
       "      <td>701</td>\n",
       "      <td>Perform checks - Dep2</td>\n",
       "      <td>2023-11-09 11:24:17.882</td>\n",
       "      <td>Clerk-000001</td>\n",
       "      <td>synonymous label('Perform checks')</td>\n",
       "    </tr>\n",
       "  </tbody>\n",
       "</table>\n",
       "</div>"
      ],
      "text/plain": [
       "      Case               Activity               Timestamp      Resource  \\\n",
       "62311    0  Perform checks - Dep2 2023-09-29 09:08:36.418  Clerk-000003   \n",
       "58807   97  Perform checks - Dep2 2023-10-04 14:33:28.710  Clerk-000005   \n",
       "61807  154  Perform checks - Dep2 2023-10-09 03:56:24.704  Clerk-000002   \n",
       "31073  283  Perform checks - Dep2 2023-10-13 14:46:37.679  Clerk-000001   \n",
       "31084  283  Perform checks - Dep1 2023-10-13 16:24:12.376  Clerk-000005   \n",
       "23902  510  Perform checks - Dep3 2023-10-30 01:22:06.896  Clerk-000002   \n",
       "10406  556  Perform checks - Dep2 2023-11-01 01:51:12.379  Clerk-000005   \n",
       "37400  572  Perform checks - Dep1 2023-11-01 19:54:51.647  Clerk-000003   \n",
       "31715  602  Perform checks - Dep2 2023-11-02 17:51:56.297  Clerk-000004   \n",
       "61640  701  Perform checks - Dep2 2023-11-09 11:24:17.882  Clerk-000001   \n",
       "\n",
       "                                    label  \n",
       "62311  synonymous label('Perform checks')  \n",
       "58807  synonymous label('Perform checks')  \n",
       "61807  synonymous label('Perform checks')  \n",
       "31073  synonymous label('Perform checks')  \n",
       "31084  synonymous label('Perform checks')  \n",
       "23902  synonymous label('Perform checks')  \n",
       "10406  synonymous label('Perform checks')  \n",
       "37400  synonymous label('Perform checks')  \n",
       "31715  synonymous label('Perform checks')  \n",
       "61640  synonymous label('Perform checks')  "
      ]
     },
     "execution_count": 16,
     "metadata": {},
     "output_type": "execute_result"
    }
   ],
   "source": [
    "EL_polluted[EL_polluted['label'] !=  \"\"].head(10)"
   ]
  },
  {
   "cell_type": "code",
   "execution_count": 17,
   "metadata": {},
   "outputs": [],
   "source": [
    "from patterns.HomonymousLabel import HomonymousLabel"
   ]
  },
  {
   "cell_type": "code",
   "execution_count": 18,
   "metadata": {},
   "outputs": [
    {
     "name": "stdout",
     "output_type": "stream",
     "text": [
      "Filtering step 1 . The number of cases in the time interval ( 2023-09-26 09:00:00.000 , 2023-12-26 09:00:00.000 ):  1505\n",
      "Filtering step 2 . The number of cases by declare rule:  34\n",
      "Filtering step 3 . The number of cases to be filtered by defined random portion:  24\n"
     ]
    }
   ],
   "source": [
    "# Homonymous Label\n",
    "EL_polluted = HomonymousLabel(EL,\n",
    "                            target = \"[Activity:('Perform checks', 'Check for completeness')]\",\n",
    "                            hlabel = \"Check:homonymous\",\n",
    "                            ratio = 0.7,\n",
    "                            tstart = \"2023-09-26 09:00:00.000\",\n",
    "                            tend = \"2023-12-26 09:00:00.000\",\n",
    "                            DecConstraint = \"Chain Response[Make decision, Notify accept] |A.Resource is Manager-000001 |T.Resource is Manager-000003 |\", \n",
    "                            case_id_key = \"Case\",\n",
    "                            timestamp_key = \"Timestamp\")"
   ]
  },
  {
   "cell_type": "code",
   "execution_count": 19,
   "metadata": {},
   "outputs": [
    {
     "data": {
      "text/html": [
       "<div>\n",
       "<style scoped>\n",
       "    .dataframe tbody tr th:only-of-type {\n",
       "        vertical-align: middle;\n",
       "    }\n",
       "\n",
       "    .dataframe tbody tr th {\n",
       "        vertical-align: top;\n",
       "    }\n",
       "\n",
       "    .dataframe thead th {\n",
       "        text-align: right;\n",
       "    }\n",
       "</style>\n",
       "<table border=\"1\" class=\"dataframe\">\n",
       "  <thead>\n",
       "    <tr style=\"text-align: right;\">\n",
       "      <th></th>\n",
       "      <th>Case</th>\n",
       "      <th>Activity</th>\n",
       "      <th>Timestamp</th>\n",
       "      <th>Resource</th>\n",
       "      <th>label</th>\n",
       "    </tr>\n",
       "  </thead>\n",
       "  <tbody>\n",
       "    <tr>\n",
       "      <th>62310</th>\n",
       "      <td>0</td>\n",
       "      <td>Check:homonymous</td>\n",
       "      <td>2023-09-29 09:00:00.000</td>\n",
       "      <td>Clerk-000001</td>\n",
       "      <td>homonymous Label(Activity:'Check for completen...</td>\n",
       "    </tr>\n",
       "    <tr>\n",
       "      <th>62311</th>\n",
       "      <td>0</td>\n",
       "      <td>Check:homonymous</td>\n",
       "      <td>2023-09-29 09:08:36.418</td>\n",
       "      <td>Clerk-000003</td>\n",
       "      <td>homonymous Label(Activity:'Perform checks')</td>\n",
       "    </tr>\n",
       "    <tr>\n",
       "      <th>58806</th>\n",
       "      <td>97</td>\n",
       "      <td>Check:homonymous</td>\n",
       "      <td>2023-10-04 14:18:44.672</td>\n",
       "      <td>Clerk-000003</td>\n",
       "      <td>homonymous Label(Activity:'Check for completen...</td>\n",
       "    </tr>\n",
       "    <tr>\n",
       "      <th>58807</th>\n",
       "      <td>97</td>\n",
       "      <td>Check:homonymous</td>\n",
       "      <td>2023-10-04 14:33:28.710</td>\n",
       "      <td>Clerk-000005</td>\n",
       "      <td>homonymous Label(Activity:'Perform checks')</td>\n",
       "    </tr>\n",
       "    <tr>\n",
       "      <th>61800</th>\n",
       "      <td>154</td>\n",
       "      <td>Check:homonymous</td>\n",
       "      <td>2023-10-09 02:50:57.264</td>\n",
       "      <td>Clerk-000005</td>\n",
       "      <td>homonymous Label(Activity:'Check for completen...</td>\n",
       "    </tr>\n",
       "  </tbody>\n",
       "</table>\n",
       "</div>"
      ],
      "text/plain": [
       "      Case          Activity               Timestamp      Resource  \\\n",
       "62310    0  Check:homonymous 2023-09-29 09:00:00.000  Clerk-000001   \n",
       "62311    0  Check:homonymous 2023-09-29 09:08:36.418  Clerk-000003   \n",
       "58806   97  Check:homonymous 2023-10-04 14:18:44.672  Clerk-000003   \n",
       "58807   97  Check:homonymous 2023-10-04 14:33:28.710  Clerk-000005   \n",
       "61800  154  Check:homonymous 2023-10-09 02:50:57.264  Clerk-000005   \n",
       "\n",
       "                                                   label  \n",
       "62310  homonymous Label(Activity:'Check for completen...  \n",
       "62311        homonymous Label(Activity:'Perform checks')  \n",
       "58806  homonymous Label(Activity:'Check for completen...  \n",
       "58807        homonymous Label(Activity:'Perform checks')  \n",
       "61800  homonymous Label(Activity:'Check for completen...  "
      ]
     },
     "execution_count": 19,
     "metadata": {},
     "output_type": "execute_result"
    }
   ],
   "source": [
    "EL_polluted[EL_polluted['label'] !=  \"\"].head(5)"
   ]
  },
  {
   "cell_type": "code",
   "execution_count": 20,
   "metadata": {},
   "outputs": [],
   "source": [
    "from patterns.ElusiveCase import ElusiveCase"
   ]
  },
  {
   "cell_type": "code",
   "execution_count": 21,
   "metadata": {},
   "outputs": [
    {
     "name": "stdout",
     "output_type": "stream",
     "text": [
      "Filtering step 1 . The number of cases in the time interval ( 2023-09-26 09:00:00.000 , 2023-12-26 09:00:00.000 ):  1505\n",
      "Filtering step 2 . The number of cases by declare rule:  34\n",
      "Filtering step 3 . The number of cases to be filtered by defined random portion:  24\n",
      "Generating draft IDs... (the below count is based on variant-level)\n"
     ]
    },
    {
     "name": "stderr",
     "output_type": "stream",
     "text": [
      "100%|██████████| 11/11 [00:00<00:00, 688.59it/s]\n"
     ]
    }
   ],
   "source": [
    "# Elusive Case \n",
    "EL_polluted = ElusiveCase(EL,\n",
    "                        method = 'Variant', # 'Variant', 'KMeans'\n",
    "                        gnum = 4,     # gnum = 4,   n_clusters = 100\n",
    "                        ratio = 0.7,\n",
    "                        tstart = \"2023-09-26 09:00:00.000\",\n",
    "                        tend = \"2023-12-26 09:00:00.000\",\n",
    "                        DecConstraint = \"Chain Response[Make decision, Notify accept] |A.Resource is Manager-000001 |T.Resource is Manager-000003 |\", \n",
    "                        case_id_key = \"Case\",\n",
    "                        activity_key = \"Activity\",\n",
    "                        timestamp_key = \"Timestamp\")"
   ]
  },
  {
   "cell_type": "code",
   "execution_count": 22,
   "metadata": {},
   "outputs": [
    {
     "data": {
      "text/html": [
       "<div>\n",
       "<style scoped>\n",
       "    .dataframe tbody tr th:only-of-type {\n",
       "        vertical-align: middle;\n",
       "    }\n",
       "\n",
       "    .dataframe tbody tr th {\n",
       "        vertical-align: top;\n",
       "    }\n",
       "\n",
       "    .dataframe thead th {\n",
       "        text-align: right;\n",
       "    }\n",
       "</style>\n",
       "<table border=\"1\" class=\"dataframe\">\n",
       "  <thead>\n",
       "    <tr style=\"text-align: right;\">\n",
       "      <th></th>\n",
       "      <th>Activity</th>\n",
       "      <th>Timestamp</th>\n",
       "      <th>Resource</th>\n",
       "      <th>draft_ID</th>\n",
       "      <th>0</th>\n",
       "      <th>1</th>\n",
       "      <th>label</th>\n",
       "    </tr>\n",
       "  </thead>\n",
       "  <tbody>\n",
       "    <tr>\n",
       "      <th>0</th>\n",
       "      <td>Check for completeness</td>\n",
       "      <td>2023-09-29 09:00:00.000</td>\n",
       "      <td>Clerk-000001</td>\n",
       "      <td>NaN</td>\n",
       "      <td>NaN</td>\n",
       "      <td>NaN</td>\n",
       "      <td>0</td>\n",
       "    </tr>\n",
       "    <tr>\n",
       "      <th>1</th>\n",
       "      <td>New online application received</td>\n",
       "      <td>2023-09-29 09:00:00.000</td>\n",
       "      <td>NaN</td>\n",
       "      <td>NaN</td>\n",
       "      <td>NaN</td>\n",
       "      <td>NaN</td>\n",
       "      <td>0</td>\n",
       "    </tr>\n",
       "    <tr>\n",
       "      <th>2</th>\n",
       "      <td>Perform checks</td>\n",
       "      <td>2023-09-29 09:08:36.418</td>\n",
       "      <td>Clerk-000003</td>\n",
       "      <td>NaN</td>\n",
       "      <td>NaN</td>\n",
       "      <td>NaN</td>\n",
       "      <td>0</td>\n",
       "    </tr>\n",
       "    <tr>\n",
       "      <th>3</th>\n",
       "      <td>Make decision</td>\n",
       "      <td>2023-09-29 09:09:43.339</td>\n",
       "      <td>Manager-000001</td>\n",
       "      <td>NaN</td>\n",
       "      <td>NaN</td>\n",
       "      <td>NaN</td>\n",
       "      <td>0</td>\n",
       "    </tr>\n",
       "    <tr>\n",
       "      <th>4</th>\n",
       "      <td>Notify accept</td>\n",
       "      <td>2023-09-29 09:16:37.243</td>\n",
       "      <td>Manager-000003</td>\n",
       "      <td>NaN</td>\n",
       "      <td>NaN</td>\n",
       "      <td>NaN</td>\n",
       "      <td>0</td>\n",
       "    </tr>\n",
       "  </tbody>\n",
       "</table>\n",
       "</div>"
      ],
      "text/plain": [
       "                          Activity               Timestamp        Resource  \\\n",
       "0           Check for completeness 2023-09-29 09:00:00.000    Clerk-000001   \n",
       "1  New online application received 2023-09-29 09:00:00.000             NaN   \n",
       "2                   Perform checks 2023-09-29 09:08:36.418    Clerk-000003   \n",
       "3                    Make decision 2023-09-29 09:09:43.339  Manager-000001   \n",
       "4                    Notify accept 2023-09-29 09:16:37.243  Manager-000003   \n",
       "\n",
       "  draft_ID    0    1 label  \n",
       "0      NaN  NaN  NaN     0  \n",
       "1      NaN  NaN  NaN     0  \n",
       "2      NaN  NaN  NaN     0  \n",
       "3      NaN  NaN  NaN     0  \n",
       "4      NaN  NaN  NaN     0  "
      ]
     },
     "execution_count": 22,
     "metadata": {},
     "output_type": "execute_result"
    }
   ],
   "source": [
    "EL_polluted[EL_polluted['label'] !=  \"\"].head(5)"
   ]
  },
  {
   "cell_type": "code",
   "execution_count": 23,
   "metadata": {},
   "outputs": [],
   "source": [
    "from patterns.UnanchoredEvent import UnanchoredEvent"
   ]
  },
  {
   "cell_type": "code",
   "execution_count": 24,
   "metadata": {},
   "outputs": [
    {
     "name": "stdout",
     "output_type": "stream",
     "text": [
      "Filtering step 1 . The number of cases in the time interval ( 2023-09-26 09:00:00.000 , 2023-12-26 09:00:00.000 ):  1505\n",
      "Filtering step 2 . The number of cases by declare rule:  34\n"
     ]
    }
   ],
   "source": [
    "\n",
    "ELsys = generate_system(EL, nsys =10)\n",
    "# Unanchored Event\n",
    "EL_polluted = UnanchoredEvent(ELsys, \n",
    "                            syslist = \"[System:('System1', 'System3')]\",\n",
    "                            TimeFormat = \"%Y/%m/%d %H:%M:%S.%f\", \n",
    "                            tstart = \"2023-09-26 09:00:00.000\",\n",
    "                            tend = \"2023-12-26 09:00:00.000\",\n",
    "                            DecConstraint = \"Chain Response[Make decision, Notify accept] |A.Resource is Manager-000001 |T.Resource is Manager-000003 |\", \n",
    "                            case_id_key = \"Case\",\n",
    "                            timestamp_key = \"Timestamp\")"
   ]
  },
  {
   "cell_type": "code",
   "execution_count": 25,
   "metadata": {},
   "outputs": [
    {
     "data": {
      "text/html": [
       "<div>\n",
       "<style scoped>\n",
       "    .dataframe tbody tr th:only-of-type {\n",
       "        vertical-align: middle;\n",
       "    }\n",
       "\n",
       "    .dataframe tbody tr th {\n",
       "        vertical-align: top;\n",
       "    }\n",
       "\n",
       "    .dataframe thead th {\n",
       "        text-align: right;\n",
       "    }\n",
       "</style>\n",
       "<table border=\"1\" class=\"dataframe\">\n",
       "  <thead>\n",
       "    <tr style=\"text-align: right;\">\n",
       "      <th></th>\n",
       "      <th>Case</th>\n",
       "      <th>Activity</th>\n",
       "      <th>Timestamp</th>\n",
       "      <th>Resource</th>\n",
       "      <th>System</th>\n",
       "      <th>label</th>\n",
       "    </tr>\n",
       "  </thead>\n",
       "  <tbody>\n",
       "    <tr>\n",
       "      <th>0</th>\n",
       "      <td>0</td>\n",
       "      <td>Check for completeness</td>\n",
       "      <td>2023/09/29 09:00:00.000000</td>\n",
       "      <td>Clerk-000001</td>\n",
       "      <td>System3</td>\n",
       "      <td>unanchored event</td>\n",
       "    </tr>\n",
       "    <tr>\n",
       "      <th>248</th>\n",
       "      <td>97</td>\n",
       "      <td>Check for completeness</td>\n",
       "      <td>2023/10/04 14:18:44.672000</td>\n",
       "      <td>Clerk-000003</td>\n",
       "      <td>System3</td>\n",
       "      <td>unanchored event</td>\n",
       "    </tr>\n",
       "    <tr>\n",
       "      <th>425</th>\n",
       "      <td>154</td>\n",
       "      <td>Check for completeness</td>\n",
       "      <td>2023/10/09 02:50:57.264000</td>\n",
       "      <td>Clerk-000005</td>\n",
       "      <td>System3</td>\n",
       "      <td>unanchored event</td>\n",
       "    </tr>\n",
       "    <tr>\n",
       "      <th>426</th>\n",
       "      <td>154</td>\n",
       "      <td>Check for completeness</td>\n",
       "      <td>2023/10/09 02:58:29.207000</td>\n",
       "      <td>Clerk-000001</td>\n",
       "      <td>System3</td>\n",
       "      <td>unanchored event</td>\n",
       "    </tr>\n",
       "    <tr>\n",
       "      <th>427</th>\n",
       "      <td>154</td>\n",
       "      <td>Check for completeness</td>\n",
       "      <td>2023/10/09 03:32:32.364000</td>\n",
       "      <td>Clerk-000001</td>\n",
       "      <td>System3</td>\n",
       "      <td>unanchored event</td>\n",
       "    </tr>\n",
       "  </tbody>\n",
       "</table>\n",
       "</div>"
      ],
      "text/plain": [
       "    Case                Activity                   Timestamp      Resource  \\\n",
       "0      0  Check for completeness  2023/09/29 09:00:00.000000  Clerk-000001   \n",
       "248   97  Check for completeness  2023/10/04 14:18:44.672000  Clerk-000003   \n",
       "425  154  Check for completeness  2023/10/09 02:50:57.264000  Clerk-000005   \n",
       "426  154  Check for completeness  2023/10/09 02:58:29.207000  Clerk-000001   \n",
       "427  154  Check for completeness  2023/10/09 03:32:32.364000  Clerk-000001   \n",
       "\n",
       "      System             label  \n",
       "0    System3  unanchored event  \n",
       "248  System3  unanchored event  \n",
       "425  System3  unanchored event  \n",
       "426  System3  unanchored event  \n",
       "427  System3  unanchored event  "
      ]
     },
     "execution_count": 25,
     "metadata": {},
     "output_type": "execute_result"
    }
   ],
   "source": [
    "EL_polluted[EL_polluted['label'] !=  \"\"].head(5)"
   ]
  },
  {
   "cell_type": "code",
   "execution_count": 27,
   "metadata": {},
   "outputs": [
    {
     "ename": "ImportError",
     "evalue": "cannot import name 'DistortedLabel' from 'patterns.DistortedLabel' (c:\\Users\\ADMIN\\Desktop\\FLAWD\\patterns\\DistortedLabel.py)",
     "output_type": "error",
     "traceback": [
      "\u001b[1;31m---------------------------------------------------------------------------\u001b[0m",
      "\u001b[1;31mImportError\u001b[0m                               Traceback (most recent call last)",
      "Cell \u001b[1;32mIn[27], line 1\u001b[0m\n\u001b[1;32m----> 1\u001b[0m \u001b[38;5;28;01mfrom\u001b[39;00m \u001b[38;5;21;01mpatterns\u001b[39;00m\u001b[38;5;21;01m.\u001b[39;00m\u001b[38;5;21;01mDistortedLabel\u001b[39;00m \u001b[38;5;28;01mimport\u001b[39;00m DistortedLabel\n",
      "\u001b[1;31mImportError\u001b[0m: cannot import name 'DistortedLabel' from 'patterns.DistortedLabel' (c:\\Users\\ADMIN\\Desktop\\FLAWD\\patterns\\DistortedLabel.py)"
     ]
    }
   ],
   "source": [
    "from patterns.DistortedLabel import DistortedLabel"
   ]
  },
  {
   "cell_type": "code",
   "execution_count": null,
   "metadata": {},
   "outputs": [],
   "source": [
    "# Distorted Label\n",
    "EL_polluted = DistortedLabel(EL, \n",
    "                          who = \"[Resource:(random{m=0.05, s=0.01})]\",    #[Resource:('Manager-000001)]\n",
    "                          distortion = \"[Activity:random(Skip, Insert, Interchange, UpLow, Proximity)]\",  # \"[Activity:({'Check for completeness':'check for completeness'})]\",\n",
    "                          ratio = 0.7,\n",
    "                          tstart = \"2023-09-26 09:00:00.000\",\n",
    "                          tend = \"2023-12-26 09:00:00.000\",\n",
    "                          declare = \"Chain Response[Make decision, Notify accept] |A.Resource is Manager-000001 |T.Resource is Manager-000003 |\", \n",
    "                          case_id_key = \"Case\",\n",
    "                          timestamp_key = \"Timestamp\")"
   ]
  },
  {
   "cell_type": "code",
   "execution_count": null,
   "metadata": {},
   "outputs": [],
   "source": [
    "EL_polluted[EL_polluted['label'] !=  \"\"].head(5)"
   ]
  },
  {
   "cell_type": "code",
   "execution_count": null,
   "metadata": {},
   "outputs": [],
   "source": [
    "from patterns.DistortedLabel import DistortedLabel"
   ]
  }
 ],
 "metadata": {
  "kernelspec": {
   "display_name": "Python 3",
   "language": "python",
   "name": "python3"
  },
  "language_info": {
   "codemirror_mode": {
    "name": "ipython",
    "version": 3
   },
   "file_extension": ".py",
   "mimetype": "text/x-python",
   "name": "python",
   "nbconvert_exporter": "python",
   "pygments_lexer": "ipython3",
   "version": "3.11.9"
  }
 },
 "nbformat": 4,
 "nbformat_minor": 2
}
